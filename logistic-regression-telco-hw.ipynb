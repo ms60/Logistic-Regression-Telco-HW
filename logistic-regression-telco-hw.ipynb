{
 "cells": [
  {
   "cell_type": "code",
   "execution_count": 1,
   "id": "55d4d63f",
   "metadata": {
    "_cell_guid": "b1076dfc-b9ad-4769-8c92-a6c4dae69d19",
    "_uuid": "8f2839f25d086af736a60e9eeb907d3b93b6e0e5",
    "execution": {
     "iopub.execute_input": "2023-11-21T18:50:47.965275Z",
     "iopub.status.busy": "2023-11-21T18:50:47.964771Z",
     "iopub.status.idle": "2023-11-21T18:50:48.438226Z",
     "shell.execute_reply": "2023-11-21T18:50:48.437121Z"
    },
    "papermill": {
     "duration": 0.498121,
     "end_time": "2023-11-21T18:50:48.441012",
     "exception": false,
     "start_time": "2023-11-21T18:50:47.942891",
     "status": "completed"
    },
    "tags": []
   },
   "outputs": [
    {
     "name": "stdout",
     "output_type": "stream",
     "text": [
      "/kaggle/input/telco-customer-churn/Telco-Customer-Churn.csv\n"
     ]
    }
   ],
   "source": [
    "# This Python 3 environment comes with many helpful analytics libraries installed\n",
    "# It is defined by the kaggle/python Docker image: https://github.com/kaggle/docker-python\n",
    "# For example, here's several helpful packages to load\n",
    "\n",
    "import numpy as np # linear algebra\n",
    "import pandas as pd # data processing, CSV file I/O (e.g. pd.read_csv)\n",
    "\n",
    "# Input data files are available in the read-only \"../input/\" directory\n",
    "# For example, running this (by clicking run or pressing Shift+Enter) will list all files under the input directory\n",
    "\n",
    "import os\n",
    "for dirname, _, filenames in os.walk('/kaggle/input'):\n",
    "    for filename in filenames:\n",
    "        print(os.path.join(dirname, filename))\n",
    "\n",
    "# You can write up to 20GB to the current directory (/kaggle/working/) that gets preserved as output when you create a version using \"Save & Run All\" \n",
    "# You can also write temporary files to /kaggle/temp/, but they won't be saved outside of the current session"
   ]
  },
  {
   "cell_type": "code",
   "execution_count": 2,
   "id": "9f578763",
   "metadata": {
    "execution": {
     "iopub.execute_input": "2023-11-21T18:50:48.483196Z",
     "iopub.status.busy": "2023-11-21T18:50:48.482360Z",
     "iopub.status.idle": "2023-11-21T18:50:48.603021Z",
     "shell.execute_reply": "2023-11-21T18:50:48.601716Z"
    },
    "papermill": {
     "duration": 0.144652,
     "end_time": "2023-11-21T18:50:48.605970",
     "exception": false,
     "start_time": "2023-11-21T18:50:48.461318",
     "status": "completed"
    },
    "tags": []
   },
   "outputs": [
    {
     "data": {
      "text/html": [
       "<div>\n",
       "<style scoped>\n",
       "    .dataframe tbody tr th:only-of-type {\n",
       "        vertical-align: middle;\n",
       "    }\n",
       "\n",
       "    .dataframe tbody tr th {\n",
       "        vertical-align: top;\n",
       "    }\n",
       "\n",
       "    .dataframe thead th {\n",
       "        text-align: right;\n",
       "    }\n",
       "</style>\n",
       "<table border=\"1\" class=\"dataframe\">\n",
       "  <thead>\n",
       "    <tr style=\"text-align: right;\">\n",
       "      <th></th>\n",
       "      <th>customerID</th>\n",
       "      <th>gender</th>\n",
       "      <th>SeniorCitizen</th>\n",
       "      <th>Partner</th>\n",
       "      <th>Dependents</th>\n",
       "      <th>tenure</th>\n",
       "      <th>PhoneService</th>\n",
       "      <th>MultipleLines</th>\n",
       "      <th>InternetService</th>\n",
       "      <th>OnlineSecurity</th>\n",
       "      <th>...</th>\n",
       "      <th>DeviceProtection</th>\n",
       "      <th>TechSupport</th>\n",
       "      <th>StreamingTV</th>\n",
       "      <th>StreamingMovies</th>\n",
       "      <th>Contract</th>\n",
       "      <th>PaperlessBilling</th>\n",
       "      <th>PaymentMethod</th>\n",
       "      <th>MonthlyCharges</th>\n",
       "      <th>TotalCharges</th>\n",
       "      <th>Churn</th>\n",
       "    </tr>\n",
       "  </thead>\n",
       "  <tbody>\n",
       "    <tr>\n",
       "      <th>0</th>\n",
       "      <td>7590-VHVEG</td>\n",
       "      <td>Female</td>\n",
       "      <td>0</td>\n",
       "      <td>Yes</td>\n",
       "      <td>No</td>\n",
       "      <td>1</td>\n",
       "      <td>No</td>\n",
       "      <td>No phone service</td>\n",
       "      <td>DSL</td>\n",
       "      <td>No</td>\n",
       "      <td>...</td>\n",
       "      <td>No</td>\n",
       "      <td>No</td>\n",
       "      <td>No</td>\n",
       "      <td>No</td>\n",
       "      <td>Month-to-month</td>\n",
       "      <td>Yes</td>\n",
       "      <td>Electronic check</td>\n",
       "      <td>29.85</td>\n",
       "      <td>29.85</td>\n",
       "      <td>No</td>\n",
       "    </tr>\n",
       "    <tr>\n",
       "      <th>1</th>\n",
       "      <td>5575-GNVDE</td>\n",
       "      <td>Male</td>\n",
       "      <td>0</td>\n",
       "      <td>No</td>\n",
       "      <td>No</td>\n",
       "      <td>34</td>\n",
       "      <td>Yes</td>\n",
       "      <td>No</td>\n",
       "      <td>DSL</td>\n",
       "      <td>Yes</td>\n",
       "      <td>...</td>\n",
       "      <td>Yes</td>\n",
       "      <td>No</td>\n",
       "      <td>No</td>\n",
       "      <td>No</td>\n",
       "      <td>One year</td>\n",
       "      <td>No</td>\n",
       "      <td>Mailed check</td>\n",
       "      <td>56.95</td>\n",
       "      <td>1889.5</td>\n",
       "      <td>No</td>\n",
       "    </tr>\n",
       "    <tr>\n",
       "      <th>2</th>\n",
       "      <td>3668-QPYBK</td>\n",
       "      <td>Male</td>\n",
       "      <td>0</td>\n",
       "      <td>No</td>\n",
       "      <td>No</td>\n",
       "      <td>2</td>\n",
       "      <td>Yes</td>\n",
       "      <td>No</td>\n",
       "      <td>DSL</td>\n",
       "      <td>Yes</td>\n",
       "      <td>...</td>\n",
       "      <td>No</td>\n",
       "      <td>No</td>\n",
       "      <td>No</td>\n",
       "      <td>No</td>\n",
       "      <td>Month-to-month</td>\n",
       "      <td>Yes</td>\n",
       "      <td>Mailed check</td>\n",
       "      <td>53.85</td>\n",
       "      <td>108.15</td>\n",
       "      <td>Yes</td>\n",
       "    </tr>\n",
       "    <tr>\n",
       "      <th>3</th>\n",
       "      <td>7795-CFOCW</td>\n",
       "      <td>Male</td>\n",
       "      <td>0</td>\n",
       "      <td>No</td>\n",
       "      <td>No</td>\n",
       "      <td>45</td>\n",
       "      <td>No</td>\n",
       "      <td>No phone service</td>\n",
       "      <td>DSL</td>\n",
       "      <td>Yes</td>\n",
       "      <td>...</td>\n",
       "      <td>Yes</td>\n",
       "      <td>Yes</td>\n",
       "      <td>No</td>\n",
       "      <td>No</td>\n",
       "      <td>One year</td>\n",
       "      <td>No</td>\n",
       "      <td>Bank transfer (automatic)</td>\n",
       "      <td>42.30</td>\n",
       "      <td>1840.75</td>\n",
       "      <td>No</td>\n",
       "    </tr>\n",
       "    <tr>\n",
       "      <th>4</th>\n",
       "      <td>9237-HQITU</td>\n",
       "      <td>Female</td>\n",
       "      <td>0</td>\n",
       "      <td>No</td>\n",
       "      <td>No</td>\n",
       "      <td>2</td>\n",
       "      <td>Yes</td>\n",
       "      <td>No</td>\n",
       "      <td>Fiber optic</td>\n",
       "      <td>No</td>\n",
       "      <td>...</td>\n",
       "      <td>No</td>\n",
       "      <td>No</td>\n",
       "      <td>No</td>\n",
       "      <td>No</td>\n",
       "      <td>Month-to-month</td>\n",
       "      <td>Yes</td>\n",
       "      <td>Electronic check</td>\n",
       "      <td>70.70</td>\n",
       "      <td>151.65</td>\n",
       "      <td>Yes</td>\n",
       "    </tr>\n",
       "  </tbody>\n",
       "</table>\n",
       "<p>5 rows × 21 columns</p>\n",
       "</div>"
      ],
      "text/plain": [
       "   customerID  gender  SeniorCitizen Partner Dependents  tenure PhoneService  \\\n",
       "0  7590-VHVEG  Female              0     Yes         No       1           No   \n",
       "1  5575-GNVDE    Male              0      No         No      34          Yes   \n",
       "2  3668-QPYBK    Male              0      No         No       2          Yes   \n",
       "3  7795-CFOCW    Male              0      No         No      45           No   \n",
       "4  9237-HQITU  Female              0      No         No       2          Yes   \n",
       "\n",
       "      MultipleLines InternetService OnlineSecurity  ... DeviceProtection  \\\n",
       "0  No phone service             DSL             No  ...               No   \n",
       "1                No             DSL            Yes  ...              Yes   \n",
       "2                No             DSL            Yes  ...               No   \n",
       "3  No phone service             DSL            Yes  ...              Yes   \n",
       "4                No     Fiber optic             No  ...               No   \n",
       "\n",
       "  TechSupport StreamingTV StreamingMovies        Contract PaperlessBilling  \\\n",
       "0          No          No              No  Month-to-month              Yes   \n",
       "1          No          No              No        One year               No   \n",
       "2          No          No              No  Month-to-month              Yes   \n",
       "3         Yes          No              No        One year               No   \n",
       "4          No          No              No  Month-to-month              Yes   \n",
       "\n",
       "               PaymentMethod MonthlyCharges  TotalCharges Churn  \n",
       "0           Electronic check          29.85         29.85    No  \n",
       "1               Mailed check          56.95        1889.5    No  \n",
       "2               Mailed check          53.85        108.15   Yes  \n",
       "3  Bank transfer (automatic)          42.30       1840.75    No  \n",
       "4           Electronic check          70.70        151.65   Yes  \n",
       "\n",
       "[5 rows x 21 columns]"
      ]
     },
     "execution_count": 2,
     "metadata": {},
     "output_type": "execute_result"
    }
   ],
   "source": [
    "df = pd.read_csv(\"/kaggle/input/telco-customer-churn/Telco-Customer-Churn.csv\")\n",
    "df.head()"
   ]
  },
  {
   "cell_type": "code",
   "execution_count": 3,
   "id": "e7f705b4",
   "metadata": {
    "execution": {
     "iopub.execute_input": "2023-11-21T18:50:48.647891Z",
     "iopub.status.busy": "2023-11-21T18:50:48.647209Z",
     "iopub.status.idle": "2023-11-21T18:50:48.666176Z",
     "shell.execute_reply": "2023-11-21T18:50:48.665027Z"
    },
    "papermill": {
     "duration": 0.042856,
     "end_time": "2023-11-21T18:50:48.668637",
     "exception": false,
     "start_time": "2023-11-21T18:50:48.625781",
     "status": "completed"
    },
    "tags": []
   },
   "outputs": [
    {
     "data": {
      "text/plain": [
       "customerID\n",
       "7590-VHVEG    1\n",
       "3791-LGQCY    1\n",
       "6008-NAIXK    1\n",
       "5956-YHHRX    1\n",
       "5365-LLFYV    1\n",
       "             ..\n",
       "9796-MVYXX    1\n",
       "2637-FKFSY    1\n",
       "1552-AAGRX    1\n",
       "4304-TSPVK    1\n",
       "3186-AJIEK    1\n",
       "Name: count, Length: 7043, dtype: int64"
      ]
     },
     "execution_count": 3,
     "metadata": {},
     "output_type": "execute_result"
    }
   ],
   "source": [
    "df[\"customerID\"].value_counts()"
   ]
  },
  {
   "cell_type": "code",
   "execution_count": 4,
   "id": "823f35ff",
   "metadata": {
    "execution": {
     "iopub.execute_input": "2023-11-21T18:50:48.711159Z",
     "iopub.status.busy": "2023-11-21T18:50:48.710519Z",
     "iopub.status.idle": "2023-11-21T18:50:48.739826Z",
     "shell.execute_reply": "2023-11-21T18:50:48.738664Z"
    },
    "papermill": {
     "duration": 0.053712,
     "end_time": "2023-11-21T18:50:48.742702",
     "exception": false,
     "start_time": "2023-11-21T18:50:48.688990",
     "status": "completed"
    },
    "tags": []
   },
   "outputs": [
    {
     "data": {
      "text/html": [
       "<div>\n",
       "<style scoped>\n",
       "    .dataframe tbody tr th:only-of-type {\n",
       "        vertical-align: middle;\n",
       "    }\n",
       "\n",
       "    .dataframe tbody tr th {\n",
       "        vertical-align: top;\n",
       "    }\n",
       "\n",
       "    .dataframe thead th {\n",
       "        text-align: right;\n",
       "    }\n",
       "</style>\n",
       "<table border=\"1\" class=\"dataframe\">\n",
       "  <thead>\n",
       "    <tr style=\"text-align: right;\">\n",
       "      <th></th>\n",
       "      <th>count</th>\n",
       "      <th>mean</th>\n",
       "      <th>std</th>\n",
       "      <th>min</th>\n",
       "      <th>25%</th>\n",
       "      <th>50%</th>\n",
       "      <th>75%</th>\n",
       "      <th>max</th>\n",
       "    </tr>\n",
       "  </thead>\n",
       "  <tbody>\n",
       "    <tr>\n",
       "      <th>SeniorCitizen</th>\n",
       "      <td>7043.0</td>\n",
       "      <td>0.162147</td>\n",
       "      <td>0.368612</td>\n",
       "      <td>0.00</td>\n",
       "      <td>0.0</td>\n",
       "      <td>0.00</td>\n",
       "      <td>0.00</td>\n",
       "      <td>1.00</td>\n",
       "    </tr>\n",
       "    <tr>\n",
       "      <th>tenure</th>\n",
       "      <td>7043.0</td>\n",
       "      <td>32.371149</td>\n",
       "      <td>24.559481</td>\n",
       "      <td>0.00</td>\n",
       "      <td>9.0</td>\n",
       "      <td>29.00</td>\n",
       "      <td>55.00</td>\n",
       "      <td>72.00</td>\n",
       "    </tr>\n",
       "    <tr>\n",
       "      <th>MonthlyCharges</th>\n",
       "      <td>7043.0</td>\n",
       "      <td>64.761692</td>\n",
       "      <td>30.090047</td>\n",
       "      <td>18.25</td>\n",
       "      <td>35.5</td>\n",
       "      <td>70.35</td>\n",
       "      <td>89.85</td>\n",
       "      <td>118.75</td>\n",
       "    </tr>\n",
       "  </tbody>\n",
       "</table>\n",
       "</div>"
      ],
      "text/plain": [
       "                 count       mean        std    min   25%    50%    75%  \\\n",
       "SeniorCitizen   7043.0   0.162147   0.368612   0.00   0.0   0.00   0.00   \n",
       "tenure          7043.0  32.371149  24.559481   0.00   9.0  29.00  55.00   \n",
       "MonthlyCharges  7043.0  64.761692  30.090047  18.25  35.5  70.35  89.85   \n",
       "\n",
       "                   max  \n",
       "SeniorCitizen     1.00  \n",
       "tenure           72.00  \n",
       "MonthlyCharges  118.75  "
      ]
     },
     "execution_count": 4,
     "metadata": {},
     "output_type": "execute_result"
    }
   ],
   "source": [
    "df.describe().T"
   ]
  },
  {
   "cell_type": "markdown",
   "id": "545c667e",
   "metadata": {
    "papermill": {
     "duration": 0.020274,
     "end_time": "2023-11-21T18:50:48.783226",
     "exception": false,
     "start_time": "2023-11-21T18:50:48.762952",
     "status": "completed"
    },
    "tags": []
   },
   "source": [
    "# **1 . EDA**"
   ]
  },
  {
   "cell_type": "markdown",
   "id": "c147ddce",
   "metadata": {
    "papermill": {
     "duration": 0.020112,
     "end_time": "2023-11-21T18:50:48.823655",
     "exception": false,
     "start_time": "2023-11-21T18:50:48.803543",
     "status": "completed"
    },
    "tags": []
   },
   "source": [
    "**1.1 get numerical and categorical columns**"
   ]
  },
  {
   "cell_type": "code",
   "execution_count": 5,
   "id": "79837617",
   "metadata": {
    "execution": {
     "iopub.execute_input": "2023-11-21T18:50:48.866504Z",
     "iopub.status.busy": "2023-11-21T18:50:48.866049Z",
     "iopub.status.idle": "2023-11-21T18:50:48.903108Z",
     "shell.execute_reply": "2023-11-21T18:50:48.901348Z"
    },
    "papermill": {
     "duration": 0.061999,
     "end_time": "2023-11-21T18:50:48.906044",
     "exception": false,
     "start_time": "2023-11-21T18:50:48.844045",
     "status": "completed"
    },
    "tags": []
   },
   "outputs": [
    {
     "name": "stdout",
     "output_type": "stream",
     "text": [
      "<class 'pandas.core.frame.DataFrame'>\n",
      "RangeIndex: 7043 entries, 0 to 7042\n",
      "Data columns (total 21 columns):\n",
      " #   Column            Non-Null Count  Dtype  \n",
      "---  ------            --------------  -----  \n",
      " 0   customerID        7043 non-null   object \n",
      " 1   gender            7043 non-null   object \n",
      " 2   SeniorCitizen     7043 non-null   int64  \n",
      " 3   Partner           7043 non-null   object \n",
      " 4   Dependents        7043 non-null   object \n",
      " 5   tenure            7043 non-null   int64  \n",
      " 6   PhoneService      7043 non-null   object \n",
      " 7   MultipleLines     7043 non-null   object \n",
      " 8   InternetService   7043 non-null   object \n",
      " 9   OnlineSecurity    7043 non-null   object \n",
      " 10  OnlineBackup      7043 non-null   object \n",
      " 11  DeviceProtection  7043 non-null   object \n",
      " 12  TechSupport       7043 non-null   object \n",
      " 13  StreamingTV       7043 non-null   object \n",
      " 14  StreamingMovies   7043 non-null   object \n",
      " 15  Contract          7043 non-null   object \n",
      " 16  PaperlessBilling  7043 non-null   object \n",
      " 17  PaymentMethod     7043 non-null   object \n",
      " 18  MonthlyCharges    7043 non-null   float64\n",
      " 19  TotalCharges      7043 non-null   object \n",
      " 20  Churn             7043 non-null   object \n",
      "dtypes: float64(1), int64(2), object(18)\n",
      "memory usage: 1.1+ MB\n"
     ]
    }
   ],
   "source": [
    "df.info()"
   ]
  },
  {
   "cell_type": "code",
   "execution_count": 6,
   "id": "35445ac6",
   "metadata": {
    "execution": {
     "iopub.execute_input": "2023-11-21T18:50:48.949807Z",
     "iopub.status.busy": "2023-11-21T18:50:48.949355Z",
     "iopub.status.idle": "2023-11-21T18:50:48.957557Z",
     "shell.execute_reply": "2023-11-21T18:50:48.956335Z"
    },
    "papermill": {
     "duration": 0.03338,
     "end_time": "2023-11-21T18:50:48.960261",
     "exception": false,
     "start_time": "2023-11-21T18:50:48.926881",
     "status": "completed"
    },
    "tags": []
   },
   "outputs": [
    {
     "data": {
      "text/plain": [
       "['SeniorCitizen', 'tenure', 'MonthlyCharges']"
      ]
     },
     "execution_count": 6,
     "metadata": {},
     "output_type": "execute_result"
    }
   ],
   "source": [
    "num_cols = [col for col in df.columns if df[col].dtype != 'O']\n",
    "num_cols\n"
   ]
  },
  {
   "cell_type": "code",
   "execution_count": 7,
   "id": "f96c3444",
   "metadata": {
    "execution": {
     "iopub.execute_input": "2023-11-21T18:50:49.003267Z",
     "iopub.status.busy": "2023-11-21T18:50:49.002819Z",
     "iopub.status.idle": "2023-11-21T18:50:49.011165Z",
     "shell.execute_reply": "2023-11-21T18:50:49.009897Z"
    },
    "papermill": {
     "duration": 0.03291,
     "end_time": "2023-11-21T18:50:49.013761",
     "exception": false,
     "start_time": "2023-11-21T18:50:48.980851",
     "status": "completed"
    },
    "tags": []
   },
   "outputs": [
    {
     "data": {
      "text/plain": [
       "['customerID',\n",
       " 'gender',\n",
       " 'Partner',\n",
       " 'Dependents',\n",
       " 'PhoneService',\n",
       " 'MultipleLines',\n",
       " 'InternetService',\n",
       " 'OnlineSecurity',\n",
       " 'OnlineBackup',\n",
       " 'DeviceProtection',\n",
       " 'TechSupport',\n",
       " 'StreamingTV',\n",
       " 'StreamingMovies',\n",
       " 'Contract',\n",
       " 'PaperlessBilling',\n",
       " 'PaymentMethod',\n",
       " 'TotalCharges',\n",
       " 'Churn']"
      ]
     },
     "execution_count": 7,
     "metadata": {},
     "output_type": "execute_result"
    }
   ],
   "source": [
    "cat_cols = [col for col in df.columns if df[col].dtype == 'O']\n",
    "cat_cols"
   ]
  },
  {
   "cell_type": "code",
   "execution_count": 8,
   "id": "00f1e59e",
   "metadata": {
    "execution": {
     "iopub.execute_input": "2023-11-21T18:50:49.060241Z",
     "iopub.status.busy": "2023-11-21T18:50:49.059824Z",
     "iopub.status.idle": "2023-11-21T18:50:49.072776Z",
     "shell.execute_reply": "2023-11-21T18:50:49.071144Z"
    },
    "papermill": {
     "duration": 0.03898,
     "end_time": "2023-11-21T18:50:49.075869",
     "exception": false,
     "start_time": "2023-11-21T18:50:49.036889",
     "status": "completed"
    },
    "tags": []
   },
   "outputs": [
    {
     "data": {
      "text/plain": [
       "['SeniorCitizen']"
      ]
     },
     "execution_count": 8,
     "metadata": {},
     "output_type": "execute_result"
    }
   ],
   "source": [
    "num_but_cat = [col for col in num_cols if df[col].nunique() < 10]\n",
    "num_but_cat"
   ]
  },
  {
   "cell_type": "code",
   "execution_count": 9,
   "id": "6f851af3",
   "metadata": {
    "execution": {
     "iopub.execute_input": "2023-11-21T18:50:49.122095Z",
     "iopub.status.busy": "2023-11-21T18:50:49.121698Z",
     "iopub.status.idle": "2023-11-21T18:50:49.145829Z",
     "shell.execute_reply": "2023-11-21T18:50:49.144599Z"
    },
    "papermill": {
     "duration": 0.050441,
     "end_time": "2023-11-21T18:50:49.148584",
     "exception": false,
     "start_time": "2023-11-21T18:50:49.098143",
     "status": "completed"
    },
    "tags": []
   },
   "outputs": [
    {
     "data": {
      "text/plain": [
       "['customerID', 'TotalCharges']"
      ]
     },
     "execution_count": 9,
     "metadata": {},
     "output_type": "execute_result"
    }
   ],
   "source": [
    "cat_but_card = [col for col in cat_cols if df[col].nunique() > 20]\n",
    "cat_but_card"
   ]
  },
  {
   "cell_type": "code",
   "execution_count": 10,
   "id": "d715a78f",
   "metadata": {
    "execution": {
     "iopub.execute_input": "2023-11-21T18:50:49.259993Z",
     "iopub.status.busy": "2023-11-21T18:50:49.259444Z",
     "iopub.status.idle": "2023-11-21T18:50:49.267434Z",
     "shell.execute_reply": "2023-11-21T18:50:49.266307Z"
    },
    "papermill": {
     "duration": 0.033496,
     "end_time": "2023-11-21T18:50:49.270025",
     "exception": false,
     "start_time": "2023-11-21T18:50:49.236529",
     "status": "completed"
    },
    "tags": []
   },
   "outputs": [
    {
     "data": {
      "text/plain": [
       "['tenure', 'MonthlyCharges', 'TotalCharges']"
      ]
     },
     "execution_count": 10,
     "metadata": {},
     "output_type": "execute_result"
    }
   ],
   "source": [
    "num_cols = [col for col in num_cols if col not in num_but_cat]\n",
    "num_cols.append('TotalCharges')\n",
    "num_cols"
   ]
  },
  {
   "cell_type": "code",
   "execution_count": 11,
   "id": "4c3eb256",
   "metadata": {
    "execution": {
     "iopub.execute_input": "2023-11-21T18:50:49.316711Z",
     "iopub.status.busy": "2023-11-21T18:50:49.316261Z",
     "iopub.status.idle": "2023-11-21T18:50:49.324114Z",
     "shell.execute_reply": "2023-11-21T18:50:49.323189Z"
    },
    "papermill": {
     "duration": 0.035544,
     "end_time": "2023-11-21T18:50:49.326799",
     "exception": false,
     "start_time": "2023-11-21T18:50:49.291255",
     "status": "completed"
    },
    "tags": []
   },
   "outputs": [
    {
     "data": {
      "text/plain": [
       "['gender',\n",
       " 'Partner',\n",
       " 'Dependents',\n",
       " 'PhoneService',\n",
       " 'MultipleLines',\n",
       " 'InternetService',\n",
       " 'OnlineSecurity',\n",
       " 'OnlineBackup',\n",
       " 'DeviceProtection',\n",
       " 'TechSupport',\n",
       " 'StreamingTV',\n",
       " 'StreamingMovies',\n",
       " 'Contract',\n",
       " 'PaperlessBilling',\n",
       " 'PaymentMethod',\n",
       " 'Churn',\n",
       " 'SeniorCitizen']"
      ]
     },
     "execution_count": 11,
     "metadata": {},
     "output_type": "execute_result"
    }
   ],
   "source": [
    "cat_cols = [col for col in cat_cols if col not in cat_but_card]\n",
    "cat_cols.extend(num_but_cat)\n",
    "#cat_cols.remove('Churn') # target \n",
    "cat_cols"
   ]
  },
  {
   "cell_type": "markdown",
   "id": "9863c846",
   "metadata": {
    "papermill": {
     "duration": 0.022667,
     "end_time": "2023-11-21T18:50:49.371307",
     "exception": false,
     "start_time": "2023-11-21T18:50:49.348640",
     "status": "completed"
    },
    "tags": []
   },
   "source": [
    "**1.2 correct types**"
   ]
  },
  {
   "cell_type": "code",
   "execution_count": 12,
   "id": "6239c1c6",
   "metadata": {
    "execution": {
     "iopub.execute_input": "2023-11-21T18:50:49.419597Z",
     "iopub.status.busy": "2023-11-21T18:50:49.419146Z",
     "iopub.status.idle": "2023-11-21T18:50:49.454960Z",
     "shell.execute_reply": "2023-11-21T18:50:49.452965Z"
    },
    "papermill": {
     "duration": 0.061778,
     "end_time": "2023-11-21T18:50:49.457721",
     "exception": false,
     "start_time": "2023-11-21T18:50:49.395943",
     "status": "completed"
    },
    "tags": []
   },
   "outputs": [
    {
     "name": "stdout",
     "output_type": "stream",
     "text": [
      "<class 'pandas.core.frame.DataFrame'>\n",
      "RangeIndex: 7043 entries, 0 to 7042\n",
      "Data columns (total 21 columns):\n",
      " #   Column            Non-Null Count  Dtype  \n",
      "---  ------            --------------  -----  \n",
      " 0   customerID        7043 non-null   object \n",
      " 1   gender            7043 non-null   object \n",
      " 2   SeniorCitizen     7043 non-null   int64  \n",
      " 3   Partner           7043 non-null   object \n",
      " 4   Dependents        7043 non-null   object \n",
      " 5   tenure            7043 non-null   int64  \n",
      " 6   PhoneService      7043 non-null   object \n",
      " 7   MultipleLines     7043 non-null   object \n",
      " 8   InternetService   7043 non-null   object \n",
      " 9   OnlineSecurity    7043 non-null   object \n",
      " 10  OnlineBackup      7043 non-null   object \n",
      " 11  DeviceProtection  7043 non-null   object \n",
      " 12  TechSupport       7043 non-null   object \n",
      " 13  StreamingTV       7043 non-null   object \n",
      " 14  StreamingMovies   7043 non-null   object \n",
      " 15  Contract          7043 non-null   object \n",
      " 16  PaperlessBilling  7043 non-null   object \n",
      " 17  PaymentMethod     7043 non-null   object \n",
      " 18  MonthlyCharges    7043 non-null   float64\n",
      " 19  TotalCharges      7032 non-null   float64\n",
      " 20  Churn             7043 non-null   object \n",
      "dtypes: float64(2), int64(2), object(17)\n",
      "memory usage: 1.1+ MB\n"
     ]
    }
   ],
   "source": [
    "df['TotalCharges'] = pd.to_numeric(df['TotalCharges'], errors='coerce')\n",
    "#df.loc[488,'TotalCharges']\n",
    "df.info()"
   ]
  },
  {
   "cell_type": "markdown",
   "id": "59cba2a5",
   "metadata": {
    "papermill": {
     "duration": 0.021669,
     "end_time": "2023-11-21T18:50:49.500836",
     "exception": false,
     "start_time": "2023-11-21T18:50:49.479167",
     "status": "completed"
    },
    "tags": []
   },
   "source": [
    "**1.3 observe distributions**"
   ]
  },
  {
   "cell_type": "code",
   "execution_count": 13,
   "id": "a269e395",
   "metadata": {
    "execution": {
     "iopub.execute_input": "2023-11-21T18:50:49.545878Z",
     "iopub.status.busy": "2023-11-21T18:50:49.545401Z",
     "iopub.status.idle": "2023-11-21T18:50:50.664733Z",
     "shell.execute_reply": "2023-11-21T18:50:50.663329Z"
    },
    "papermill": {
     "duration": 1.145017,
     "end_time": "2023-11-21T18:50:50.667355",
     "exception": false,
     "start_time": "2023-11-21T18:50:49.522338",
     "status": "completed"
    },
    "tags": []
   },
   "outputs": [
    {
     "data": {
      "text/plain": [
       "array([[<Axes: title={'center': 'tenure'}>,\n",
       "        <Axes: title={'center': 'MonthlyCharges'}>,\n",
       "        <Axes: title={'center': 'TotalCharges'}>]], dtype=object)"
      ]
     },
     "execution_count": 13,
     "metadata": {},
     "output_type": "execute_result"
    },
    {
     "data": {
      "image/png": "[encoded data removed]",
      "text/plain": [
       "<Figure size 1500x500 with 3 Axes>"
      ]
     },
     "metadata": {},
     "output_type": "display_data"
    }
   ],
   "source": [
    "df[num_cols].hist(legend=True,layout=(1,len(num_cols)),figsize = (15,5),sharex=False,\n",
    "    sharey=True,bins=30)"
   ]
  },
  {
   "cell_type": "code",
   "execution_count": 14,
   "id": "6b572d2b",
   "metadata": {
    "execution": {
     "iopub.execute_input": "2023-11-21T18:50:50.716539Z",
     "iopub.status.busy": "2023-11-21T18:50:50.715966Z",
     "iopub.status.idle": "2023-11-21T18:50:50.746340Z",
     "shell.execute_reply": "2023-11-21T18:50:50.744951Z"
    },
    "papermill": {
     "duration": 0.058329,
     "end_time": "2023-11-21T18:50:50.749105",
     "exception": false,
     "start_time": "2023-11-21T18:50:50.690776",
     "status": "completed"
    },
    "tags": []
   },
   "outputs": [
    {
     "data": {
      "text/html": [
       "<div>\n",
       "<style scoped>\n",
       "    .dataframe tbody tr th:only-of-type {\n",
       "        vertical-align: middle;\n",
       "    }\n",
       "\n",
       "    .dataframe tbody tr th {\n",
       "        vertical-align: top;\n",
       "    }\n",
       "\n",
       "    .dataframe thead th {\n",
       "        text-align: right;\n",
       "    }\n",
       "</style>\n",
       "<table border=\"1\" class=\"dataframe\">\n",
       "  <thead>\n",
       "    <tr style=\"text-align: right;\">\n",
       "      <th></th>\n",
       "      <th>count</th>\n",
       "      <th>mean</th>\n",
       "      <th>std</th>\n",
       "      <th>min</th>\n",
       "      <th>25%</th>\n",
       "      <th>50%</th>\n",
       "      <th>75%</th>\n",
       "      <th>max</th>\n",
       "    </tr>\n",
       "  </thead>\n",
       "  <tbody>\n",
       "    <tr>\n",
       "      <th>tenure</th>\n",
       "      <td>7043.0</td>\n",
       "      <td>32.371149</td>\n",
       "      <td>24.559481</td>\n",
       "      <td>0.00</td>\n",
       "      <td>9.00</td>\n",
       "      <td>29.000</td>\n",
       "      <td>55.0000</td>\n",
       "      <td>72.00</td>\n",
       "    </tr>\n",
       "    <tr>\n",
       "      <th>MonthlyCharges</th>\n",
       "      <td>7043.0</td>\n",
       "      <td>64.761692</td>\n",
       "      <td>30.090047</td>\n",
       "      <td>18.25</td>\n",
       "      <td>35.50</td>\n",
       "      <td>70.350</td>\n",
       "      <td>89.8500</td>\n",
       "      <td>118.75</td>\n",
       "    </tr>\n",
       "    <tr>\n",
       "      <th>TotalCharges</th>\n",
       "      <td>7032.0</td>\n",
       "      <td>2283.300441</td>\n",
       "      <td>2266.771362</td>\n",
       "      <td>18.80</td>\n",
       "      <td>401.45</td>\n",
       "      <td>1397.475</td>\n",
       "      <td>3794.7375</td>\n",
       "      <td>8684.80</td>\n",
       "    </tr>\n",
       "  </tbody>\n",
       "</table>\n",
       "</div>"
      ],
      "text/plain": [
       "                 count         mean          std    min     25%       50%  \\\n",
       "tenure          7043.0    32.371149    24.559481   0.00    9.00    29.000   \n",
       "MonthlyCharges  7043.0    64.761692    30.090047  18.25   35.50    70.350   \n",
       "TotalCharges    7032.0  2283.300441  2266.771362  18.80  401.45  1397.475   \n",
       "\n",
       "                      75%      max  \n",
       "tenure            55.0000    72.00  \n",
       "MonthlyCharges    89.8500   118.75  \n",
       "TotalCharges    3794.7375  8684.80  "
      ]
     },
     "execution_count": 14,
     "metadata": {},
     "output_type": "execute_result"
    }
   ],
   "source": [
    "df[num_cols].describe().T"
   ]
  },
  {
   "cell_type": "markdown",
   "id": "9a63b582",
   "metadata": {
    "papermill": {
     "duration": 0.02239,
     "end_time": "2023-11-21T18:50:50.794244",
     "exception": false,
     "start_time": "2023-11-21T18:50:50.771854",
     "status": "completed"
    },
    "tags": []
   },
   "source": [
    "how to observe categorical columns?"
   ]
  },
  {
   "cell_type": "markdown",
   "id": "0826cfca",
   "metadata": {
    "papermill": {
     "duration": 0.024457,
     "end_time": "2023-11-21T18:50:50.841617",
     "exception": false,
     "start_time": "2023-11-21T18:50:50.817160",
     "status": "completed"
    },
    "tags": []
   },
   "source": [
    "**1.4 check categorical cols according to target col**"
   ]
  },
  {
   "cell_type": "code",
   "execution_count": 15,
   "id": "adb9715b",
   "metadata": {
    "execution": {
     "iopub.execute_input": "2023-11-21T18:50:50.888899Z",
     "iopub.status.busy": "2023-11-21T18:50:50.888469Z",
     "iopub.status.idle": "2023-11-21T18:50:50.960553Z",
     "shell.execute_reply": "2023-11-21T18:50:50.958439Z"
    },
    "papermill": {
     "duration": 0.099016,
     "end_time": "2023-11-21T18:50:50.963417",
     "exception": false,
     "start_time": "2023-11-21T18:50:50.864401",
     "status": "completed"
    },
    "tags": []
   },
   "outputs": [
    {
     "name": "stdout",
     "output_type": "stream",
     "text": [
      "        Churn\n",
      "gender       \n",
      "Female   3488\n",
      "Male     3555\n",
      "----\n",
      "         Churn\n",
      "Partner       \n",
      "No        3641\n",
      "Yes       3402\n",
      "----\n",
      "            Churn\n",
      "Dependents       \n",
      "No           4933\n",
      "Yes          2110\n",
      "----\n",
      "              Churn\n",
      "PhoneService       \n",
      "No              682\n",
      "Yes            6361\n",
      "----\n",
      "                  Churn\n",
      "MultipleLines          \n",
      "No                 3390\n",
      "No phone service    682\n",
      "Yes                2971\n",
      "----\n",
      "                 Churn\n",
      "InternetService       \n",
      "DSL               2421\n",
      "Fiber optic       3096\n",
      "No                1526\n",
      "----\n",
      "                     Churn\n",
      "OnlineSecurity            \n",
      "No                    3498\n",
      "No internet service   1526\n",
      "Yes                   2019\n",
      "----\n",
      "                     Churn\n",
      "OnlineBackup              \n",
      "No                    3088\n",
      "No internet service   1526\n",
      "Yes                   2429\n",
      "----\n",
      "                     Churn\n",
      "DeviceProtection          \n",
      "No                    3095\n",
      "No internet service   1526\n",
      "Yes                   2422\n",
      "----\n",
      "                     Churn\n",
      "TechSupport               \n",
      "No                    3473\n",
      "No internet service   1526\n",
      "Yes                   2044\n",
      "----\n",
      "                     Churn\n",
      "StreamingTV               \n",
      "No                    2810\n",
      "No internet service   1526\n",
      "Yes                   2707\n",
      "----\n",
      "                     Churn\n",
      "StreamingMovies           \n",
      "No                    2785\n",
      "No internet service   1526\n",
      "Yes                   2732\n",
      "----\n",
      "                Churn\n",
      "Contract             \n",
      "Month-to-month   3875\n",
      "One year         1473\n",
      "Two year         1695\n",
      "----\n",
      "                  Churn\n",
      "PaperlessBilling       \n",
      "No                 2872\n",
      "Yes                4171\n",
      "----\n",
      "                           Churn\n",
      "PaymentMethod                   \n",
      "Bank transfer (automatic)   1544\n",
      "Credit card (automatic)     1522\n",
      "Electronic check            2365\n",
      "Mailed check                1612\n",
      "----\n",
      "       Churn\n",
      "Churn       \n",
      "No      5174\n",
      "Yes     1869\n",
      "----\n",
      "               Churn\n",
      "SeniorCitizen       \n",
      "0               5901\n",
      "1               1142\n",
      "----\n"
     ]
    }
   ],
   "source": [
    "for col in cat_cols:\n",
    "    print(df.groupby(col).agg({'Churn':'count'}))\n",
    "    print(\"----\")"
   ]
  },
  {
   "cell_type": "markdown",
   "id": "1907ccb2",
   "metadata": {
    "papermill": {
     "duration": 0.023233,
     "end_time": "2023-11-21T18:50:51.010120",
     "exception": false,
     "start_time": "2023-11-21T18:50:50.986887",
     "status": "completed"
    },
    "tags": []
   },
   "source": [
    "**1.4 check outliers**\n",
    "\n",
    "2 methods\n",
    "1. IQR\n",
    "1. LOF"
   ]
  },
  {
   "cell_type": "code",
   "execution_count": 16,
   "id": "8c8bd206",
   "metadata": {
    "execution": {
     "iopub.execute_input": "2023-11-21T18:50:51.059126Z",
     "iopub.status.busy": "2023-11-21T18:50:51.058701Z",
     "iopub.status.idle": "2023-11-21T18:50:51.065425Z",
     "shell.execute_reply": "2023-11-21T18:50:51.064091Z"
    },
    "papermill": {
     "duration": 0.034145,
     "end_time": "2023-11-21T18:50:51.068219",
     "exception": false,
     "start_time": "2023-11-21T18:50:51.034074",
     "status": "completed"
    },
    "tags": []
   },
   "outputs": [],
   "source": [
    "def IQR(df,col,low = 0.25 , up  =0.75):\n",
    "    q1 = df[col].quantile(low)\n",
    "    q3 = df[col].quantile(up)\n",
    "    IQR_RANGE = q3-q1\n",
    "    low_limit = q1 - IQR_RANGE * 1.5\n",
    "    up_limit = q3 + IQR_RANGE * 1.5\n",
    "    #print(q1,q3,IQR_RANGE,low_limit,up_limit)\n",
    "    return low_limit,up_limit"
   ]
  },
  {
   "cell_type": "code",
   "execution_count": 17,
   "id": "adf17d38",
   "metadata": {
    "execution": {
     "iopub.execute_input": "2023-11-21T18:50:51.118271Z",
     "iopub.status.busy": "2023-11-21T18:50:51.117873Z",
     "iopub.status.idle": "2023-11-21T18:50:51.136347Z",
     "shell.execute_reply": "2023-11-21T18:50:51.134985Z"
    },
    "papermill": {
     "duration": 0.046308,
     "end_time": "2023-11-21T18:50:51.139058",
     "exception": false,
     "start_time": "2023-11-21T18:50:51.092750",
     "status": "completed"
    },
    "tags": []
   },
   "outputs": [
    {
     "name": "stdout",
     "output_type": "stream",
     "text": [
      "-60.0 124.0 0 72\n",
      "Series([], Name: tenure, dtype: int64)\n",
      "-46.02499999999999 171.375 18.25 118.75\n",
      "Series([], Name: MonthlyCharges, dtype: float64)\n",
      "-4688.481250000001 8884.66875 18.8 8684.8\n",
      "Series([], Name: TotalCharges, dtype: float64)\n"
     ]
    }
   ],
   "source": [
    "for col in num_cols:\n",
    "    low , up = IQR(df,col)\n",
    "    print(low,up,df[col].min(),df[col].max())\n",
    "    print( df.loc[ (df[col] < low) | (df[col] > up)  ,col] )"
   ]
  },
  {
   "cell_type": "markdown",
   "id": "24d8083f",
   "metadata": {
    "papermill": {
     "duration": 0.022726,
     "end_time": "2023-11-21T18:50:51.184980",
     "exception": false,
     "start_time": "2023-11-21T18:50:51.162254",
     "status": "completed"
    },
    "tags": []
   },
   "source": [
    "SORU : acaba veriler normal dağılmadığı için mi IQR limitleri garip geldi"
   ]
  },
  {
   "cell_type": "markdown",
   "id": "d6252c60",
   "metadata": {
    "papermill": {
     "duration": 0.022545,
     "end_time": "2023-11-21T18:50:51.230301",
     "exception": false,
     "start_time": "2023-11-21T18:50:51.207756",
     "status": "completed"
    },
    "tags": []
   },
   "source": [
    "LOF"
   ]
  },
  {
   "cell_type": "code",
   "execution_count": 18,
   "id": "71e1a60d",
   "metadata": {
    "execution": {
     "iopub.execute_input": "2023-11-21T18:50:51.278258Z",
     "iopub.status.busy": "2023-11-21T18:50:51.277020Z",
     "iopub.status.idle": "2023-11-21T18:50:51.282534Z",
     "shell.execute_reply": "2023-11-21T18:50:51.281671Z"
    },
    "papermill": {
     "duration": 0.032064,
     "end_time": "2023-11-21T18:50:51.285019",
     "exception": false,
     "start_time": "2023-11-21T18:50:51.252955",
     "status": "completed"
    },
    "tags": []
   },
   "outputs": [],
   "source": [
    "#from sklearn.neighbors import LocalOutlierFactor\n",
    "#clf = LocalOutlierFactor(n_neighbors=20)\n",
    "#clf.fit_predict(df[num_cols])\n",
    "\n",
    "#df_scores = clf.negative_outlier_factor_\n",
    "#np.sort(df_scores)[0:5]"
   ]
  },
  {
   "cell_type": "markdown",
   "id": "7567088f",
   "metadata": {
    "papermill": {
     "duration": 0.022581,
     "end_time": "2023-11-21T18:50:51.330314",
     "exception": false,
     "start_time": "2023-11-21T18:50:51.307733",
     "status": "completed"
    },
    "tags": []
   },
   "source": [
    "LOF ile de IQR ile de outlier analizi yapamadım , "
   ]
  },
  {
   "cell_type": "code",
   "execution_count": 19,
   "id": "29450c0e",
   "metadata": {
    "execution": {
     "iopub.execute_input": "2023-11-21T18:50:51.379165Z",
     "iopub.status.busy": "2023-11-21T18:50:51.378077Z",
     "iopub.status.idle": "2023-11-21T18:50:51.616339Z",
     "shell.execute_reply": "2023-11-21T18:50:51.614946Z"
    },
    "papermill": {
     "duration": 0.266332,
     "end_time": "2023-11-21T18:50:51.619312",
     "exception": false,
     "start_time": "2023-11-21T18:50:51.352980",
     "status": "completed"
    },
    "tags": []
   },
   "outputs": [
    {
     "data": {
      "text/plain": [
       "<Axes: >"
      ]
     },
     "execution_count": 19,
     "metadata": {},
     "output_type": "execute_result"
    },
    {
     "data": {
      "image/png": "[encoded data removed]",
      "text/plain": [
       "<Figure size 640x480 with 1 Axes>"
      ]
     },
     "metadata": {},
     "output_type": "display_data"
    }
   ],
   "source": [
    "df[num_cols].boxplot()"
   ]
  },
  {
   "cell_type": "markdown",
   "id": "85b844ce",
   "metadata": {
    "papermill": {
     "duration": 0.02334,
     "end_time": "2023-11-21T18:50:51.667542",
     "exception": false,
     "start_time": "2023-11-21T18:50:51.644202",
     "status": "completed"
    },
    "tags": []
   },
   "source": [
    "görsel analize baktığımda , outlier yok gibi duruyor"
   ]
  },
  {
   "cell_type": "code",
   "execution_count": null,
   "id": "9eead110",
   "metadata": {
    "papermill": {
     "duration": 0.024506,
     "end_time": "2023-11-21T18:50:51.716214",
     "exception": false,
     "start_time": "2023-11-21T18:50:51.691708",
     "status": "completed"
    },
    "tags": []
   },
   "outputs": [],
   "source": []
  },
  {
   "cell_type": "code",
   "execution_count": null,
   "id": "358b5758",
   "metadata": {
    "papermill": {
     "duration": 0.023198,
     "end_time": "2023-11-21T18:50:51.763013",
     "exception": false,
     "start_time": "2023-11-21T18:50:51.739815",
     "status": "completed"
    },
    "tags": []
   },
   "outputs": [],
   "source": []
  },
  {
   "cell_type": "markdown",
   "id": "df00ecc3",
   "metadata": {
    "papermill": {
     "duration": 0.024304,
     "end_time": "2023-11-21T18:50:51.812726",
     "exception": false,
     "start_time": "2023-11-21T18:50:51.788422",
     "status": "completed"
    },
    "tags": []
   },
   "source": [
    "**1.5 check missing values**"
   ]
  },
  {
   "cell_type": "code",
   "execution_count": 20,
   "id": "19428852",
   "metadata": {
    "execution": {
     "iopub.execute_input": "2023-11-21T18:50:51.864802Z",
     "iopub.status.busy": "2023-11-21T18:50:51.864392Z",
     "iopub.status.idle": "2023-11-21T18:50:51.888943Z",
     "shell.execute_reply": "2023-11-21T18:50:51.887147Z"
    },
    "papermill": {
     "duration": 0.054688,
     "end_time": "2023-11-21T18:50:51.891794",
     "exception": false,
     "start_time": "2023-11-21T18:50:51.837106",
     "status": "completed"
    },
    "tags": []
   },
   "outputs": [
    {
     "data": {
      "text/plain": [
       "customerID           0\n",
       "gender               0\n",
       "SeniorCitizen        0\n",
       "Partner              0\n",
       "Dependents           0\n",
       "tenure               0\n",
       "PhoneService         0\n",
       "MultipleLines        0\n",
       "InternetService      0\n",
       "OnlineSecurity       0\n",
       "OnlineBackup         0\n",
       "DeviceProtection     0\n",
       "TechSupport          0\n",
       "StreamingTV          0\n",
       "StreamingMovies      0\n",
       "Contract             0\n",
       "PaperlessBilling     0\n",
       "PaymentMethod        0\n",
       "MonthlyCharges       0\n",
       "TotalCharges        11\n",
       "Churn                0\n",
       "dtype: int64"
      ]
     },
     "execution_count": 20,
     "metadata": {},
     "output_type": "execute_result"
    }
   ],
   "source": [
    "df.isnull().sum()"
   ]
  },
  {
   "cell_type": "markdown",
   "id": "99445d18",
   "metadata": {
    "papermill": {
     "duration": 0.024334,
     "end_time": "2023-11-21T18:50:51.941035",
     "exception": false,
     "start_time": "2023-11-21T18:50:51.916701",
     "status": "completed"
    },
    "tags": []
   },
   "source": [
    "# **2. Feature Engineering**"
   ]
  },
  {
   "cell_type": "markdown",
   "id": "a71753fc",
   "metadata": {
    "papermill": {
     "duration": 0.0237,
     "end_time": "2023-11-21T18:50:51.989189",
     "exception": false,
     "start_time": "2023-11-21T18:50:51.965489",
     "status": "completed"
    },
    "tags": []
   },
   "source": [
    "**2.1 handle outliers and missing values**"
   ]
  },
  {
   "cell_type": "code",
   "execution_count": 21,
   "id": "2256d54a",
   "metadata": {
    "execution": {
     "iopub.execute_input": "2023-11-21T18:50:52.040525Z",
     "iopub.status.busy": "2023-11-21T18:50:52.039835Z",
     "iopub.status.idle": "2023-11-21T18:50:52.055365Z",
     "shell.execute_reply": "2023-11-21T18:50:52.054464Z"
    },
    "papermill": {
     "duration": 0.043998,
     "end_time": "2023-11-21T18:50:52.057706",
     "exception": false,
     "start_time": "2023-11-21T18:50:52.013708",
     "status": "completed"
    },
    "tags": []
   },
   "outputs": [
    {
     "data": {
      "text/html": [
       "<div>\n",
       "<style scoped>\n",
       "    .dataframe tbody tr th:only-of-type {\n",
       "        vertical-align: middle;\n",
       "    }\n",
       "\n",
       "    .dataframe tbody tr th {\n",
       "        vertical-align: top;\n",
       "    }\n",
       "\n",
       "    .dataframe thead th {\n",
       "        text-align: right;\n",
       "    }\n",
       "</style>\n",
       "<table border=\"1\" class=\"dataframe\">\n",
       "  <thead>\n",
       "    <tr style=\"text-align: right;\">\n",
       "      <th></th>\n",
       "      <th>TotalCharges</th>\n",
       "    </tr>\n",
       "    <tr>\n",
       "      <th>Churn</th>\n",
       "      <th></th>\n",
       "    </tr>\n",
       "  </thead>\n",
       "  <tbody>\n",
       "    <tr>\n",
       "      <th>No</th>\n",
       "      <td>2555.344141</td>\n",
       "    </tr>\n",
       "    <tr>\n",
       "      <th>Yes</th>\n",
       "      <td>1531.796094</td>\n",
       "    </tr>\n",
       "  </tbody>\n",
       "</table>\n",
       "</div>"
      ],
      "text/plain": [
       "       TotalCharges\n",
       "Churn              \n",
       "No      2555.344141\n",
       "Yes     1531.796094"
      ]
     },
     "execution_count": 21,
     "metadata": {},
     "output_type": "execute_result"
    }
   ],
   "source": [
    "df.groupby(\"Churn\").agg({\"TotalCharges\":\"mean\"})"
   ]
  },
  {
   "cell_type": "code",
   "execution_count": 22,
   "id": "3728c51c",
   "metadata": {
    "execution": {
     "iopub.execute_input": "2023-11-21T18:50:52.108681Z",
     "iopub.status.busy": "2023-11-21T18:50:52.107959Z",
     "iopub.status.idle": "2023-11-21T18:50:52.138433Z",
     "shell.execute_reply": "2023-11-21T18:50:52.137452Z"
    },
    "papermill": {
     "duration": 0.058985,
     "end_time": "2023-11-21T18:50:52.140726",
     "exception": false,
     "start_time": "2023-11-21T18:50:52.081741",
     "status": "completed"
    },
    "tags": []
   },
   "outputs": [
    {
     "data": {
      "text/html": [
       "<div>\n",
       "<style scoped>\n",
       "    .dataframe tbody tr th:only-of-type {\n",
       "        vertical-align: middle;\n",
       "    }\n",
       "\n",
       "    .dataframe tbody tr th {\n",
       "        vertical-align: top;\n",
       "    }\n",
       "\n",
       "    .dataframe thead th {\n",
       "        text-align: right;\n",
       "    }\n",
       "</style>\n",
       "<table border=\"1\" class=\"dataframe\">\n",
       "  <thead>\n",
       "    <tr style=\"text-align: right;\">\n",
       "      <th></th>\n",
       "      <th>customerID</th>\n",
       "      <th>gender</th>\n",
       "      <th>SeniorCitizen</th>\n",
       "      <th>Partner</th>\n",
       "      <th>Dependents</th>\n",
       "      <th>tenure</th>\n",
       "      <th>PhoneService</th>\n",
       "      <th>MultipleLines</th>\n",
       "      <th>InternetService</th>\n",
       "      <th>OnlineSecurity</th>\n",
       "      <th>...</th>\n",
       "      <th>DeviceProtection</th>\n",
       "      <th>TechSupport</th>\n",
       "      <th>StreamingTV</th>\n",
       "      <th>StreamingMovies</th>\n",
       "      <th>Contract</th>\n",
       "      <th>PaperlessBilling</th>\n",
       "      <th>PaymentMethod</th>\n",
       "      <th>MonthlyCharges</th>\n",
       "      <th>TotalCharges</th>\n",
       "      <th>Churn</th>\n",
       "    </tr>\n",
       "  </thead>\n",
       "  <tbody>\n",
       "    <tr>\n",
       "      <th>488</th>\n",
       "      <td>4472-LVYGI</td>\n",
       "      <td>Female</td>\n",
       "      <td>0</td>\n",
       "      <td>Yes</td>\n",
       "      <td>Yes</td>\n",
       "      <td>0</td>\n",
       "      <td>No</td>\n",
       "      <td>No phone service</td>\n",
       "      <td>DSL</td>\n",
       "      <td>Yes</td>\n",
       "      <td>...</td>\n",
       "      <td>Yes</td>\n",
       "      <td>Yes</td>\n",
       "      <td>Yes</td>\n",
       "      <td>No</td>\n",
       "      <td>Two year</td>\n",
       "      <td>Yes</td>\n",
       "      <td>Bank transfer (automatic)</td>\n",
       "      <td>52.55</td>\n",
       "      <td>NaN</td>\n",
       "      <td>No</td>\n",
       "    </tr>\n",
       "    <tr>\n",
       "      <th>753</th>\n",
       "      <td>3115-CZMZD</td>\n",
       "      <td>Male</td>\n",
       "      <td>0</td>\n",
       "      <td>No</td>\n",
       "      <td>Yes</td>\n",
       "      <td>0</td>\n",
       "      <td>Yes</td>\n",
       "      <td>No</td>\n",
       "      <td>No</td>\n",
       "      <td>No internet service</td>\n",
       "      <td>...</td>\n",
       "      <td>No internet service</td>\n",
       "      <td>No internet service</td>\n",
       "      <td>No internet service</td>\n",
       "      <td>No internet service</td>\n",
       "      <td>Two year</td>\n",
       "      <td>No</td>\n",
       "      <td>Mailed check</td>\n",
       "      <td>20.25</td>\n",
       "      <td>NaN</td>\n",
       "      <td>No</td>\n",
       "    </tr>\n",
       "    <tr>\n",
       "      <th>936</th>\n",
       "      <td>5709-LVOEQ</td>\n",
       "      <td>Female</td>\n",
       "      <td>0</td>\n",
       "      <td>Yes</td>\n",
       "      <td>Yes</td>\n",
       "      <td>0</td>\n",
       "      <td>Yes</td>\n",
       "      <td>No</td>\n",
       "      <td>DSL</td>\n",
       "      <td>Yes</td>\n",
       "      <td>...</td>\n",
       "      <td>Yes</td>\n",
       "      <td>No</td>\n",
       "      <td>Yes</td>\n",
       "      <td>Yes</td>\n",
       "      <td>Two year</td>\n",
       "      <td>No</td>\n",
       "      <td>Mailed check</td>\n",
       "      <td>80.85</td>\n",
       "      <td>NaN</td>\n",
       "      <td>No</td>\n",
       "    </tr>\n",
       "    <tr>\n",
       "      <th>1082</th>\n",
       "      <td>4367-NUYAO</td>\n",
       "      <td>Male</td>\n",
       "      <td>0</td>\n",
       "      <td>Yes</td>\n",
       "      <td>Yes</td>\n",
       "      <td>0</td>\n",
       "      <td>Yes</td>\n",
       "      <td>Yes</td>\n",
       "      <td>No</td>\n",
       "      <td>No internet service</td>\n",
       "      <td>...</td>\n",
       "      <td>No internet service</td>\n",
       "      <td>No internet service</td>\n",
       "      <td>No internet service</td>\n",
       "      <td>No internet service</td>\n",
       "      <td>Two year</td>\n",
       "      <td>No</td>\n",
       "      <td>Mailed check</td>\n",
       "      <td>25.75</td>\n",
       "      <td>NaN</td>\n",
       "      <td>No</td>\n",
       "    </tr>\n",
       "    <tr>\n",
       "      <th>1340</th>\n",
       "      <td>1371-DWPAZ</td>\n",
       "      <td>Female</td>\n",
       "      <td>0</td>\n",
       "      <td>Yes</td>\n",
       "      <td>Yes</td>\n",
       "      <td>0</td>\n",
       "      <td>No</td>\n",
       "      <td>No phone service</td>\n",
       "      <td>DSL</td>\n",
       "      <td>Yes</td>\n",
       "      <td>...</td>\n",
       "      <td>Yes</td>\n",
       "      <td>Yes</td>\n",
       "      <td>Yes</td>\n",
       "      <td>No</td>\n",
       "      <td>Two year</td>\n",
       "      <td>No</td>\n",
       "      <td>Credit card (automatic)</td>\n",
       "      <td>56.05</td>\n",
       "      <td>NaN</td>\n",
       "      <td>No</td>\n",
       "    </tr>\n",
       "    <tr>\n",
       "      <th>3331</th>\n",
       "      <td>7644-OMVMY</td>\n",
       "      <td>Male</td>\n",
       "      <td>0</td>\n",
       "      <td>Yes</td>\n",
       "      <td>Yes</td>\n",
       "      <td>0</td>\n",
       "      <td>Yes</td>\n",
       "      <td>No</td>\n",
       "      <td>No</td>\n",
       "      <td>No internet service</td>\n",
       "      <td>...</td>\n",
       "      <td>No internet service</td>\n",
       "      <td>No internet service</td>\n",
       "      <td>No internet service</td>\n",
       "      <td>No internet service</td>\n",
       "      <td>Two year</td>\n",
       "      <td>No</td>\n",
       "      <td>Mailed check</td>\n",
       "      <td>19.85</td>\n",
       "      <td>NaN</td>\n",
       "      <td>No</td>\n",
       "    </tr>\n",
       "    <tr>\n",
       "      <th>3826</th>\n",
       "      <td>3213-VVOLG</td>\n",
       "      <td>Male</td>\n",
       "      <td>0</td>\n",
       "      <td>Yes</td>\n",
       "      <td>Yes</td>\n",
       "      <td>0</td>\n",
       "      <td>Yes</td>\n",
       "      <td>Yes</td>\n",
       "      <td>No</td>\n",
       "      <td>No internet service</td>\n",
       "      <td>...</td>\n",
       "      <td>No internet service</td>\n",
       "      <td>No internet service</td>\n",
       "      <td>No internet service</td>\n",
       "      <td>No internet service</td>\n",
       "      <td>Two year</td>\n",
       "      <td>No</td>\n",
       "      <td>Mailed check</td>\n",
       "      <td>25.35</td>\n",
       "      <td>NaN</td>\n",
       "      <td>No</td>\n",
       "    </tr>\n",
       "    <tr>\n",
       "      <th>4380</th>\n",
       "      <td>2520-SGTTA</td>\n",
       "      <td>Female</td>\n",
       "      <td>0</td>\n",
       "      <td>Yes</td>\n",
       "      <td>Yes</td>\n",
       "      <td>0</td>\n",
       "      <td>Yes</td>\n",
       "      <td>No</td>\n",
       "      <td>No</td>\n",
       "      <td>No internet service</td>\n",
       "      <td>...</td>\n",
       "      <td>No internet service</td>\n",
       "      <td>No internet service</td>\n",
       "      <td>No internet service</td>\n",
       "      <td>No internet service</td>\n",
       "      <td>Two year</td>\n",
       "      <td>No</td>\n",
       "      <td>Mailed check</td>\n",
       "      <td>20.00</td>\n",
       "      <td>NaN</td>\n",
       "      <td>No</td>\n",
       "    </tr>\n",
       "    <tr>\n",
       "      <th>5218</th>\n",
       "      <td>2923-ARZLG</td>\n",
       "      <td>Male</td>\n",
       "      <td>0</td>\n",
       "      <td>Yes</td>\n",
       "      <td>Yes</td>\n",
       "      <td>0</td>\n",
       "      <td>Yes</td>\n",
       "      <td>No</td>\n",
       "      <td>No</td>\n",
       "      <td>No internet service</td>\n",
       "      <td>...</td>\n",
       "      <td>No internet service</td>\n",
       "      <td>No internet service</td>\n",
       "      <td>No internet service</td>\n",
       "      <td>No internet service</td>\n",
       "      <td>One year</td>\n",
       "      <td>Yes</td>\n",
       "      <td>Mailed check</td>\n",
       "      <td>19.70</td>\n",
       "      <td>NaN</td>\n",
       "      <td>No</td>\n",
       "    </tr>\n",
       "    <tr>\n",
       "      <th>6670</th>\n",
       "      <td>4075-WKNIU</td>\n",
       "      <td>Female</td>\n",
       "      <td>0</td>\n",
       "      <td>Yes</td>\n",
       "      <td>Yes</td>\n",
       "      <td>0</td>\n",
       "      <td>Yes</td>\n",
       "      <td>Yes</td>\n",
       "      <td>DSL</td>\n",
       "      <td>No</td>\n",
       "      <td>...</td>\n",
       "      <td>Yes</td>\n",
       "      <td>Yes</td>\n",
       "      <td>Yes</td>\n",
       "      <td>No</td>\n",
       "      <td>Two year</td>\n",
       "      <td>No</td>\n",
       "      <td>Mailed check</td>\n",
       "      <td>73.35</td>\n",
       "      <td>NaN</td>\n",
       "      <td>No</td>\n",
       "    </tr>\n",
       "    <tr>\n",
       "      <th>6754</th>\n",
       "      <td>2775-SEFEE</td>\n",
       "      <td>Male</td>\n",
       "      <td>0</td>\n",
       "      <td>No</td>\n",
       "      <td>Yes</td>\n",
       "      <td>0</td>\n",
       "      <td>Yes</td>\n",
       "      <td>Yes</td>\n",
       "      <td>DSL</td>\n",
       "      <td>Yes</td>\n",
       "      <td>...</td>\n",
       "      <td>No</td>\n",
       "      <td>Yes</td>\n",
       "      <td>No</td>\n",
       "      <td>No</td>\n",
       "      <td>Two year</td>\n",
       "      <td>Yes</td>\n",
       "      <td>Bank transfer (automatic)</td>\n",
       "      <td>61.90</td>\n",
       "      <td>NaN</td>\n",
       "      <td>No</td>\n",
       "    </tr>\n",
       "  </tbody>\n",
       "</table>\n",
       "<p>11 rows × 21 columns</p>\n",
       "</div>"
      ],
      "text/plain": [
       "      customerID  gender  SeniorCitizen Partner Dependents  tenure  \\\n",
       "488   4472-LVYGI  Female              0     Yes        Yes       0   \n",
       "753   3115-CZMZD    Male              0      No        Yes       0   \n",
       "936   5709-LVOEQ  Female              0     Yes        Yes       0   \n",
       "1082  4367-NUYAO    Male              0     Yes        Yes       0   \n",
       "1340  1371-DWPAZ  Female              0     Yes        Yes       0   \n",
       "3331  7644-OMVMY    Male              0     Yes        Yes       0   \n",
       "3826  3213-VVOLG    Male              0     Yes        Yes       0   \n",
       "4380  2520-SGTTA  Female              0     Yes        Yes       0   \n",
       "5218  2923-ARZLG    Male              0     Yes        Yes       0   \n",
       "6670  4075-WKNIU  Female              0     Yes        Yes       0   \n",
       "6754  2775-SEFEE    Male              0      No        Yes       0   \n",
       "\n",
       "     PhoneService     MultipleLines InternetService       OnlineSecurity  ...  \\\n",
       "488            No  No phone service             DSL                  Yes  ...   \n",
       "753           Yes                No              No  No internet service  ...   \n",
       "936           Yes                No             DSL                  Yes  ...   \n",
       "1082          Yes               Yes              No  No internet service  ...   \n",
       "1340           No  No phone service             DSL                  Yes  ...   \n",
       "3331          Yes                No              No  No internet service  ...   \n",
       "3826          Yes               Yes              No  No internet service  ...   \n",
       "4380          Yes                No              No  No internet service  ...   \n",
       "5218          Yes                No              No  No internet service  ...   \n",
       "6670          Yes               Yes             DSL                   No  ...   \n",
       "6754          Yes               Yes             DSL                  Yes  ...   \n",
       "\n",
       "         DeviceProtection          TechSupport          StreamingTV  \\\n",
       "488                   Yes                  Yes                  Yes   \n",
       "753   No internet service  No internet service  No internet service   \n",
       "936                   Yes                   No                  Yes   \n",
       "1082  No internet service  No internet service  No internet service   \n",
       "1340                  Yes                  Yes                  Yes   \n",
       "3331  No internet service  No internet service  No internet service   \n",
       "3826  No internet service  No internet service  No internet service   \n",
       "4380  No internet service  No internet service  No internet service   \n",
       "5218  No internet service  No internet service  No internet service   \n",
       "6670                  Yes                  Yes                  Yes   \n",
       "6754                   No                  Yes                   No   \n",
       "\n",
       "          StreamingMovies  Contract PaperlessBilling  \\\n",
       "488                    No  Two year              Yes   \n",
       "753   No internet service  Two year               No   \n",
       "936                   Yes  Two year               No   \n",
       "1082  No internet service  Two year               No   \n",
       "1340                   No  Two year               No   \n",
       "3331  No internet service  Two year               No   \n",
       "3826  No internet service  Two year               No   \n",
       "4380  No internet service  Two year               No   \n",
       "5218  No internet service  One year              Yes   \n",
       "6670                   No  Two year               No   \n",
       "6754                   No  Two year              Yes   \n",
       "\n",
       "                  PaymentMethod MonthlyCharges  TotalCharges  Churn  \n",
       "488   Bank transfer (automatic)          52.55           NaN     No  \n",
       "753                Mailed check          20.25           NaN     No  \n",
       "936                Mailed check          80.85           NaN     No  \n",
       "1082               Mailed check          25.75           NaN     No  \n",
       "1340    Credit card (automatic)          56.05           NaN     No  \n",
       "3331               Mailed check          19.85           NaN     No  \n",
       "3826               Mailed check          25.35           NaN     No  \n",
       "4380               Mailed check          20.00           NaN     No  \n",
       "5218               Mailed check          19.70           NaN     No  \n",
       "6670               Mailed check          73.35           NaN     No  \n",
       "6754  Bank transfer (automatic)          61.90           NaN     No  \n",
       "\n",
       "[11 rows x 21 columns]"
      ]
     },
     "execution_count": 22,
     "metadata": {},
     "output_type": "execute_result"
    }
   ],
   "source": [
    "df.loc[df[\"TotalCharges\"].isna() ,]"
   ]
  },
  {
   "cell_type": "code",
   "execution_count": 23,
   "id": "9de826d8",
   "metadata": {
    "execution": {
     "iopub.execute_input": "2023-11-21T18:50:52.192055Z",
     "iopub.status.busy": "2023-11-21T18:50:52.191422Z",
     "iopub.status.idle": "2023-11-21T18:50:52.200874Z",
     "shell.execute_reply": "2023-11-21T18:50:52.199997Z"
    },
    "papermill": {
     "duration": 0.038024,
     "end_time": "2023-11-21T18:50:52.203258",
     "exception": false,
     "start_time": "2023-11-21T18:50:52.165234",
     "status": "completed"
    },
    "tags": []
   },
   "outputs": [
    {
     "data": {
      "text/plain": [
       "Series([], Name: TotalCharges, dtype: float64)"
      ]
     },
     "execution_count": 23,
     "metadata": {},
     "output_type": "execute_result"
    }
   ],
   "source": [
    "df.loc[(df[\"TotalCharges\"].isna()) & (df[\"Churn\"] == \"YES\") ,\"TotalCharges\"]"
   ]
  },
  {
   "cell_type": "code",
   "execution_count": 24,
   "id": "c8fd2e25",
   "metadata": {
    "execution": {
     "iopub.execute_input": "2023-11-21T18:50:52.255248Z",
     "iopub.status.busy": "2023-11-21T18:50:52.254630Z",
     "iopub.status.idle": "2023-11-21T18:50:52.265248Z",
     "shell.execute_reply": "2023-11-21T18:50:52.264153Z"
    },
    "papermill": {
     "duration": 0.039908,
     "end_time": "2023-11-21T18:50:52.267739",
     "exception": false,
     "start_time": "2023-11-21T18:50:52.227831",
     "status": "completed"
    },
    "tags": []
   },
   "outputs": [
    {
     "data": {
      "text/plain": [
       "Series([], Name: TotalCharges, dtype: float64)"
      ]
     },
     "execution_count": 24,
     "metadata": {},
     "output_type": "execute_result"
    }
   ],
   "source": [
    "df.loc[(df[\"TotalCharges\"].isna()) & (df[\"Churn\"] == \"NO\") ,\"TotalCharges\"]"
   ]
  },
  {
   "cell_type": "markdown",
   "id": "d530e2ba",
   "metadata": {
    "papermill": {
     "duration": 0.025139,
     "end_time": "2023-11-21T18:50:52.317582",
     "exception": false,
     "start_time": "2023-11-21T18:50:52.292443",
     "status": "completed"
    },
    "tags": []
   },
   "source": [
    "NaN değerlerin hepsi churn etmeyenlere ait , tenure değerleri de 0 , bunlar yeni müşteriler"
   ]
  },
  {
   "cell_type": "code",
   "execution_count": 25,
   "id": "cfa4d146",
   "metadata": {
    "execution": {
     "iopub.execute_input": "2023-11-21T18:50:52.369492Z",
     "iopub.status.busy": "2023-11-21T18:50:52.368672Z",
     "iopub.status.idle": "2023-11-21T18:50:52.400330Z",
     "shell.execute_reply": "2023-11-21T18:50:52.399367Z"
    },
    "papermill": {
     "duration": 0.060419,
     "end_time": "2023-11-21T18:50:52.402701",
     "exception": false,
     "start_time": "2023-11-21T18:50:52.342282",
     "status": "completed"
    },
    "tags": []
   },
   "outputs": [
    {
     "data": {
      "text/html": [
       "<div>\n",
       "<style scoped>\n",
       "    .dataframe tbody tr th:only-of-type {\n",
       "        vertical-align: middle;\n",
       "    }\n",
       "\n",
       "    .dataframe tbody tr th {\n",
       "        vertical-align: top;\n",
       "    }\n",
       "\n",
       "    .dataframe thead th {\n",
       "        text-align: right;\n",
       "    }\n",
       "</style>\n",
       "<table border=\"1\" class=\"dataframe\">\n",
       "  <thead>\n",
       "    <tr style=\"text-align: right;\">\n",
       "      <th></th>\n",
       "      <th>customerID</th>\n",
       "      <th>gender</th>\n",
       "      <th>SeniorCitizen</th>\n",
       "      <th>Partner</th>\n",
       "      <th>Dependents</th>\n",
       "      <th>tenure</th>\n",
       "      <th>PhoneService</th>\n",
       "      <th>MultipleLines</th>\n",
       "      <th>InternetService</th>\n",
       "      <th>OnlineSecurity</th>\n",
       "      <th>...</th>\n",
       "      <th>DeviceProtection</th>\n",
       "      <th>TechSupport</th>\n",
       "      <th>StreamingTV</th>\n",
       "      <th>StreamingMovies</th>\n",
       "      <th>Contract</th>\n",
       "      <th>PaperlessBilling</th>\n",
       "      <th>PaymentMethod</th>\n",
       "      <th>MonthlyCharges</th>\n",
       "      <th>TotalCharges</th>\n",
       "      <th>Churn</th>\n",
       "    </tr>\n",
       "  </thead>\n",
       "  <tbody>\n",
       "    <tr>\n",
       "      <th>488</th>\n",
       "      <td>4472-LVYGI</td>\n",
       "      <td>Female</td>\n",
       "      <td>0</td>\n",
       "      <td>Yes</td>\n",
       "      <td>Yes</td>\n",
       "      <td>0</td>\n",
       "      <td>No</td>\n",
       "      <td>No phone service</td>\n",
       "      <td>DSL</td>\n",
       "      <td>Yes</td>\n",
       "      <td>...</td>\n",
       "      <td>Yes</td>\n",
       "      <td>Yes</td>\n",
       "      <td>Yes</td>\n",
       "      <td>No</td>\n",
       "      <td>Two year</td>\n",
       "      <td>Yes</td>\n",
       "      <td>Bank transfer (automatic)</td>\n",
       "      <td>52.55</td>\n",
       "      <td>NaN</td>\n",
       "      <td>No</td>\n",
       "    </tr>\n",
       "    <tr>\n",
       "      <th>753</th>\n",
       "      <td>3115-CZMZD</td>\n",
       "      <td>Male</td>\n",
       "      <td>0</td>\n",
       "      <td>No</td>\n",
       "      <td>Yes</td>\n",
       "      <td>0</td>\n",
       "      <td>Yes</td>\n",
       "      <td>No</td>\n",
       "      <td>No</td>\n",
       "      <td>No internet service</td>\n",
       "      <td>...</td>\n",
       "      <td>No internet service</td>\n",
       "      <td>No internet service</td>\n",
       "      <td>No internet service</td>\n",
       "      <td>No internet service</td>\n",
       "      <td>Two year</td>\n",
       "      <td>No</td>\n",
       "      <td>Mailed check</td>\n",
       "      <td>20.25</td>\n",
       "      <td>NaN</td>\n",
       "      <td>No</td>\n",
       "    </tr>\n",
       "    <tr>\n",
       "      <th>936</th>\n",
       "      <td>5709-LVOEQ</td>\n",
       "      <td>Female</td>\n",
       "      <td>0</td>\n",
       "      <td>Yes</td>\n",
       "      <td>Yes</td>\n",
       "      <td>0</td>\n",
       "      <td>Yes</td>\n",
       "      <td>No</td>\n",
       "      <td>DSL</td>\n",
       "      <td>Yes</td>\n",
       "      <td>...</td>\n",
       "      <td>Yes</td>\n",
       "      <td>No</td>\n",
       "      <td>Yes</td>\n",
       "      <td>Yes</td>\n",
       "      <td>Two year</td>\n",
       "      <td>No</td>\n",
       "      <td>Mailed check</td>\n",
       "      <td>80.85</td>\n",
       "      <td>NaN</td>\n",
       "      <td>No</td>\n",
       "    </tr>\n",
       "    <tr>\n",
       "      <th>1082</th>\n",
       "      <td>4367-NUYAO</td>\n",
       "      <td>Male</td>\n",
       "      <td>0</td>\n",
       "      <td>Yes</td>\n",
       "      <td>Yes</td>\n",
       "      <td>0</td>\n",
       "      <td>Yes</td>\n",
       "      <td>Yes</td>\n",
       "      <td>No</td>\n",
       "      <td>No internet service</td>\n",
       "      <td>...</td>\n",
       "      <td>No internet service</td>\n",
       "      <td>No internet service</td>\n",
       "      <td>No internet service</td>\n",
       "      <td>No internet service</td>\n",
       "      <td>Two year</td>\n",
       "      <td>No</td>\n",
       "      <td>Mailed check</td>\n",
       "      <td>25.75</td>\n",
       "      <td>NaN</td>\n",
       "      <td>No</td>\n",
       "    </tr>\n",
       "    <tr>\n",
       "      <th>1340</th>\n",
       "      <td>1371-DWPAZ</td>\n",
       "      <td>Female</td>\n",
       "      <td>0</td>\n",
       "      <td>Yes</td>\n",
       "      <td>Yes</td>\n",
       "      <td>0</td>\n",
       "      <td>No</td>\n",
       "      <td>No phone service</td>\n",
       "      <td>DSL</td>\n",
       "      <td>Yes</td>\n",
       "      <td>...</td>\n",
       "      <td>Yes</td>\n",
       "      <td>Yes</td>\n",
       "      <td>Yes</td>\n",
       "      <td>No</td>\n",
       "      <td>Two year</td>\n",
       "      <td>No</td>\n",
       "      <td>Credit card (automatic)</td>\n",
       "      <td>56.05</td>\n",
       "      <td>NaN</td>\n",
       "      <td>No</td>\n",
       "    </tr>\n",
       "    <tr>\n",
       "      <th>3331</th>\n",
       "      <td>7644-OMVMY</td>\n",
       "      <td>Male</td>\n",
       "      <td>0</td>\n",
       "      <td>Yes</td>\n",
       "      <td>Yes</td>\n",
       "      <td>0</td>\n",
       "      <td>Yes</td>\n",
       "      <td>No</td>\n",
       "      <td>No</td>\n",
       "      <td>No internet service</td>\n",
       "      <td>...</td>\n",
       "      <td>No internet service</td>\n",
       "      <td>No internet service</td>\n",
       "      <td>No internet service</td>\n",
       "      <td>No internet service</td>\n",
       "      <td>Two year</td>\n",
       "      <td>No</td>\n",
       "      <td>Mailed check</td>\n",
       "      <td>19.85</td>\n",
       "      <td>NaN</td>\n",
       "      <td>No</td>\n",
       "    </tr>\n",
       "    <tr>\n",
       "      <th>3826</th>\n",
       "      <td>3213-VVOLG</td>\n",
       "      <td>Male</td>\n",
       "      <td>0</td>\n",
       "      <td>Yes</td>\n",
       "      <td>Yes</td>\n",
       "      <td>0</td>\n",
       "      <td>Yes</td>\n",
       "      <td>Yes</td>\n",
       "      <td>No</td>\n",
       "      <td>No internet service</td>\n",
       "      <td>...</td>\n",
       "      <td>No internet service</td>\n",
       "      <td>No internet service</td>\n",
       "      <td>No internet service</td>\n",
       "      <td>No internet service</td>\n",
       "      <td>Two year</td>\n",
       "      <td>No</td>\n",
       "      <td>Mailed check</td>\n",
       "      <td>25.35</td>\n",
       "      <td>NaN</td>\n",
       "      <td>No</td>\n",
       "    </tr>\n",
       "    <tr>\n",
       "      <th>4380</th>\n",
       "      <td>2520-SGTTA</td>\n",
       "      <td>Female</td>\n",
       "      <td>0</td>\n",
       "      <td>Yes</td>\n",
       "      <td>Yes</td>\n",
       "      <td>0</td>\n",
       "      <td>Yes</td>\n",
       "      <td>No</td>\n",
       "      <td>No</td>\n",
       "      <td>No internet service</td>\n",
       "      <td>...</td>\n",
       "      <td>No internet service</td>\n",
       "      <td>No internet service</td>\n",
       "      <td>No internet service</td>\n",
       "      <td>No internet service</td>\n",
       "      <td>Two year</td>\n",
       "      <td>No</td>\n",
       "      <td>Mailed check</td>\n",
       "      <td>20.00</td>\n",
       "      <td>NaN</td>\n",
       "      <td>No</td>\n",
       "    </tr>\n",
       "    <tr>\n",
       "      <th>5218</th>\n",
       "      <td>2923-ARZLG</td>\n",
       "      <td>Male</td>\n",
       "      <td>0</td>\n",
       "      <td>Yes</td>\n",
       "      <td>Yes</td>\n",
       "      <td>0</td>\n",
       "      <td>Yes</td>\n",
       "      <td>No</td>\n",
       "      <td>No</td>\n",
       "      <td>No internet service</td>\n",
       "      <td>...</td>\n",
       "      <td>No internet service</td>\n",
       "      <td>No internet service</td>\n",
       "      <td>No internet service</td>\n",
       "      <td>No internet service</td>\n",
       "      <td>One year</td>\n",
       "      <td>Yes</td>\n",
       "      <td>Mailed check</td>\n",
       "      <td>19.70</td>\n",
       "      <td>NaN</td>\n",
       "      <td>No</td>\n",
       "    </tr>\n",
       "    <tr>\n",
       "      <th>6670</th>\n",
       "      <td>4075-WKNIU</td>\n",
       "      <td>Female</td>\n",
       "      <td>0</td>\n",
       "      <td>Yes</td>\n",
       "      <td>Yes</td>\n",
       "      <td>0</td>\n",
       "      <td>Yes</td>\n",
       "      <td>Yes</td>\n",
       "      <td>DSL</td>\n",
       "      <td>No</td>\n",
       "      <td>...</td>\n",
       "      <td>Yes</td>\n",
       "      <td>Yes</td>\n",
       "      <td>Yes</td>\n",
       "      <td>No</td>\n",
       "      <td>Two year</td>\n",
       "      <td>No</td>\n",
       "      <td>Mailed check</td>\n",
       "      <td>73.35</td>\n",
       "      <td>NaN</td>\n",
       "      <td>No</td>\n",
       "    </tr>\n",
       "    <tr>\n",
       "      <th>6754</th>\n",
       "      <td>2775-SEFEE</td>\n",
       "      <td>Male</td>\n",
       "      <td>0</td>\n",
       "      <td>No</td>\n",
       "      <td>Yes</td>\n",
       "      <td>0</td>\n",
       "      <td>Yes</td>\n",
       "      <td>Yes</td>\n",
       "      <td>DSL</td>\n",
       "      <td>Yes</td>\n",
       "      <td>...</td>\n",
       "      <td>No</td>\n",
       "      <td>Yes</td>\n",
       "      <td>No</td>\n",
       "      <td>No</td>\n",
       "      <td>Two year</td>\n",
       "      <td>Yes</td>\n",
       "      <td>Bank transfer (automatic)</td>\n",
       "      <td>61.90</td>\n",
       "      <td>NaN</td>\n",
       "      <td>No</td>\n",
       "    </tr>\n",
       "  </tbody>\n",
       "</table>\n",
       "<p>11 rows × 21 columns</p>\n",
       "</div>"
      ],
      "text/plain": [
       "      customerID  gender  SeniorCitizen Partner Dependents  tenure  \\\n",
       "488   4472-LVYGI  Female              0     Yes        Yes       0   \n",
       "753   3115-CZMZD    Male              0      No        Yes       0   \n",
       "936   5709-LVOEQ  Female              0     Yes        Yes       0   \n",
       "1082  4367-NUYAO    Male              0     Yes        Yes       0   \n",
       "1340  1371-DWPAZ  Female              0     Yes        Yes       0   \n",
       "3331  7644-OMVMY    Male              0     Yes        Yes       0   \n",
       "3826  3213-VVOLG    Male              0     Yes        Yes       0   \n",
       "4380  2520-SGTTA  Female              0     Yes        Yes       0   \n",
       "5218  2923-ARZLG    Male              0     Yes        Yes       0   \n",
       "6670  4075-WKNIU  Female              0     Yes        Yes       0   \n",
       "6754  2775-SEFEE    Male              0      No        Yes       0   \n",
       "\n",
       "     PhoneService     MultipleLines InternetService       OnlineSecurity  ...  \\\n",
       "488            No  No phone service             DSL                  Yes  ...   \n",
       "753           Yes                No              No  No internet service  ...   \n",
       "936           Yes                No             DSL                  Yes  ...   \n",
       "1082          Yes               Yes              No  No internet service  ...   \n",
       "1340           No  No phone service             DSL                  Yes  ...   \n",
       "3331          Yes                No              No  No internet service  ...   \n",
       "3826          Yes               Yes              No  No internet service  ...   \n",
       "4380          Yes                No              No  No internet service  ...   \n",
       "5218          Yes                No              No  No internet service  ...   \n",
       "6670          Yes               Yes             DSL                   No  ...   \n",
       "6754          Yes               Yes             DSL                  Yes  ...   \n",
       "\n",
       "         DeviceProtection          TechSupport          StreamingTV  \\\n",
       "488                   Yes                  Yes                  Yes   \n",
       "753   No internet service  No internet service  No internet service   \n",
       "936                   Yes                   No                  Yes   \n",
       "1082  No internet service  No internet service  No internet service   \n",
       "1340                  Yes                  Yes                  Yes   \n",
       "3331  No internet service  No internet service  No internet service   \n",
       "3826  No internet service  No internet service  No internet service   \n",
       "4380  No internet service  No internet service  No internet service   \n",
       "5218  No internet service  No internet service  No internet service   \n",
       "6670                  Yes                  Yes                  Yes   \n",
       "6754                   No                  Yes                   No   \n",
       "\n",
       "          StreamingMovies  Contract PaperlessBilling  \\\n",
       "488                    No  Two year              Yes   \n",
       "753   No internet service  Two year               No   \n",
       "936                   Yes  Two year               No   \n",
       "1082  No internet service  Two year               No   \n",
       "1340                   No  Two year               No   \n",
       "3331  No internet service  Two year               No   \n",
       "3826  No internet service  Two year               No   \n",
       "4380  No internet service  Two year               No   \n",
       "5218  No internet service  One year              Yes   \n",
       "6670                   No  Two year               No   \n",
       "6754                   No  Two year              Yes   \n",
       "\n",
       "                  PaymentMethod MonthlyCharges  TotalCharges  Churn  \n",
       "488   Bank transfer (automatic)          52.55           NaN     No  \n",
       "753                Mailed check          20.25           NaN     No  \n",
       "936                Mailed check          80.85           NaN     No  \n",
       "1082               Mailed check          25.75           NaN     No  \n",
       "1340    Credit card (automatic)          56.05           NaN     No  \n",
       "3331               Mailed check          19.85           NaN     No  \n",
       "3826               Mailed check          25.35           NaN     No  \n",
       "4380               Mailed check          20.00           NaN     No  \n",
       "5218               Mailed check          19.70           NaN     No  \n",
       "6670               Mailed check          73.35           NaN     No  \n",
       "6754  Bank transfer (automatic)          61.90           NaN     No  \n",
       "\n",
       "[11 rows x 21 columns]"
      ]
     },
     "execution_count": 25,
     "metadata": {},
     "output_type": "execute_result"
    }
   ],
   "source": [
    "df.loc[df[\"tenure\"]==0,:]"
   ]
  },
  {
   "cell_type": "code",
   "execution_count": 26,
   "id": "7ef9b735",
   "metadata": {
    "execution": {
     "iopub.execute_input": "2023-11-21T18:50:52.458551Z",
     "iopub.status.busy": "2023-11-21T18:50:52.457784Z",
     "iopub.status.idle": "2023-11-21T18:50:52.469346Z",
     "shell.execute_reply": "2023-11-21T18:50:52.467872Z"
    },
    "papermill": {
     "duration": 0.043588,
     "end_time": "2023-11-21T18:50:52.472203",
     "exception": false,
     "start_time": "2023-11-21T18:50:52.428615",
     "status": "completed"
    },
    "tags": []
   },
   "outputs": [
    {
     "data": {
      "text/plain": [
       "(7032, 21)"
      ]
     },
     "execution_count": 26,
     "metadata": {},
     "output_type": "execute_result"
    }
   ],
   "source": [
    "df.drop(df.loc[df[\"tenure\"]==0,:].index,inplace=True)\n",
    "df.shape"
   ]
  },
  {
   "cell_type": "code",
   "execution_count": 27,
   "id": "624510d4",
   "metadata": {
    "execution": {
     "iopub.execute_input": "2023-11-21T18:50:52.528043Z",
     "iopub.status.busy": "2023-11-21T18:50:52.527616Z",
     "iopub.status.idle": "2023-11-21T18:50:54.532880Z",
     "shell.execute_reply": "2023-11-21T18:50:54.531438Z"
    },
    "papermill": {
     "duration": 2.036802,
     "end_time": "2023-11-21T18:50:54.535712",
     "exception": false,
     "start_time": "2023-11-21T18:50:52.498910",
     "status": "completed"
    },
    "tags": []
   },
   "outputs": [
    {
     "data": {
      "text/plain": [
       "array([-8.59322075, -6.42861331, -5.98094887, -5.01065911, -5.00095931])"
      ]
     },
     "execution_count": 27,
     "metadata": {},
     "output_type": "execute_result"
    }
   ],
   "source": [
    "from sklearn.neighbors import LocalOutlierFactor\n",
    "clf = LocalOutlierFactor(n_neighbors=20)\n",
    "clf.fit_predict(df[num_cols])\n",
    "\n",
    "df_scores = clf.negative_outlier_factor_\n",
    "np.sort(df_scores)[0:5]"
   ]
  },
  {
   "cell_type": "code",
   "execution_count": 28,
   "id": "322cfe65",
   "metadata": {
    "execution": {
     "iopub.execute_input": "2023-11-21T18:50:54.590871Z",
     "iopub.status.busy": "2023-11-21T18:50:54.590364Z",
     "iopub.status.idle": "2023-11-21T18:50:54.982259Z",
     "shell.execute_reply": "2023-11-21T18:50:54.980746Z"
    },
    "papermill": {
     "duration": 0.422573,
     "end_time": "2023-11-21T18:50:54.985005",
     "exception": false,
     "start_time": "2023-11-21T18:50:54.562432",
     "status": "completed"
    },
    "tags": []
   },
   "outputs": [
    {
     "data": {
      "text/plain": [
       "<Axes: title={'center': 'Elbow Method'}>"
      ]
     },
     "execution_count": 28,
     "metadata": {},
     "output_type": "execute_result"
    },
    {
     "data": {
      "image/png": "[encoded data removed]",
      "text/plain": [
       "<Figure size 640x480 with 1 Axes>"
      ]
     },
     "metadata": {},
     "output_type": "display_data"
    }
   ],
   "source": [
    "scores = pd.DataFrame(np.sort(\n",
    "    df_scores))\n",
    "scores.plot(stacked=True,xlim=[0,20],\n",
    "            style='.-',title = 'Elbow Method')"
   ]
  },
  {
   "cell_type": "code",
   "execution_count": 29,
   "id": "08e3a308",
   "metadata": {
    "execution": {
     "iopub.execute_input": "2023-11-21T18:50:55.041076Z",
     "iopub.status.busy": "2023-11-21T18:50:55.040640Z",
     "iopub.status.idle": "2023-11-21T18:50:55.075552Z",
     "shell.execute_reply": "2023-11-21T18:50:55.074456Z"
    },
    "papermill": {
     "duration": 0.066351,
     "end_time": "2023-11-21T18:50:55.078264",
     "exception": false,
     "start_time": "2023-11-21T18:50:55.011913",
     "status": "completed"
    },
    "tags": []
   },
   "outputs": [
    {
     "data": {
      "text/html": [
       "<div>\n",
       "<style scoped>\n",
       "    .dataframe tbody tr th:only-of-type {\n",
       "        vertical-align: middle;\n",
       "    }\n",
       "\n",
       "    .dataframe tbody tr th {\n",
       "        vertical-align: top;\n",
       "    }\n",
       "\n",
       "    .dataframe thead th {\n",
       "        text-align: right;\n",
       "    }\n",
       "</style>\n",
       "<table border=\"1\" class=\"dataframe\">\n",
       "  <thead>\n",
       "    <tr style=\"text-align: right;\">\n",
       "      <th></th>\n",
       "      <th>customerID</th>\n",
       "      <th>gender</th>\n",
       "      <th>SeniorCitizen</th>\n",
       "      <th>Partner</th>\n",
       "      <th>Dependents</th>\n",
       "      <th>tenure</th>\n",
       "      <th>PhoneService</th>\n",
       "      <th>MultipleLines</th>\n",
       "      <th>InternetService</th>\n",
       "      <th>OnlineSecurity</th>\n",
       "      <th>...</th>\n",
       "      <th>DeviceProtection</th>\n",
       "      <th>TechSupport</th>\n",
       "      <th>StreamingTV</th>\n",
       "      <th>StreamingMovies</th>\n",
       "      <th>Contract</th>\n",
       "      <th>PaperlessBilling</th>\n",
       "      <th>PaymentMethod</th>\n",
       "      <th>MonthlyCharges</th>\n",
       "      <th>TotalCharges</th>\n",
       "      <th>Churn</th>\n",
       "    </tr>\n",
       "  </thead>\n",
       "  <tbody>\n",
       "    <tr>\n",
       "      <th>0</th>\n",
       "      <td>7590-VHVEG</td>\n",
       "      <td>Female</td>\n",
       "      <td>0</td>\n",
       "      <td>Yes</td>\n",
       "      <td>No</td>\n",
       "      <td>1</td>\n",
       "      <td>No</td>\n",
       "      <td>No phone service</td>\n",
       "      <td>DSL</td>\n",
       "      <td>No</td>\n",
       "      <td>...</td>\n",
       "      <td>No</td>\n",
       "      <td>No</td>\n",
       "      <td>No</td>\n",
       "      <td>No</td>\n",
       "      <td>Month-to-month</td>\n",
       "      <td>Yes</td>\n",
       "      <td>Electronic check</td>\n",
       "      <td>29.85</td>\n",
       "      <td>29.85</td>\n",
       "      <td>No</td>\n",
       "    </tr>\n",
       "    <tr>\n",
       "      <th>20</th>\n",
       "      <td>8779-QRDMV</td>\n",
       "      <td>Male</td>\n",
       "      <td>1</td>\n",
       "      <td>No</td>\n",
       "      <td>No</td>\n",
       "      <td>1</td>\n",
       "      <td>No</td>\n",
       "      <td>No phone service</td>\n",
       "      <td>DSL</td>\n",
       "      <td>No</td>\n",
       "      <td>...</td>\n",
       "      <td>Yes</td>\n",
       "      <td>No</td>\n",
       "      <td>No</td>\n",
       "      <td>Yes</td>\n",
       "      <td>Month-to-month</td>\n",
       "      <td>Yes</td>\n",
       "      <td>Electronic check</td>\n",
       "      <td>39.65</td>\n",
       "      <td>39.65</td>\n",
       "      <td>Yes</td>\n",
       "    </tr>\n",
       "    <tr>\n",
       "      <th>27</th>\n",
       "      <td>8665-UTDHZ</td>\n",
       "      <td>Male</td>\n",
       "      <td>0</td>\n",
       "      <td>Yes</td>\n",
       "      <td>Yes</td>\n",
       "      <td>1</td>\n",
       "      <td>No</td>\n",
       "      <td>No phone service</td>\n",
       "      <td>DSL</td>\n",
       "      <td>No</td>\n",
       "      <td>...</td>\n",
       "      <td>No</td>\n",
       "      <td>No</td>\n",
       "      <td>No</td>\n",
       "      <td>No</td>\n",
       "      <td>Month-to-month</td>\n",
       "      <td>No</td>\n",
       "      <td>Electronic check</td>\n",
       "      <td>30.20</td>\n",
       "      <td>30.20</td>\n",
       "      <td>Yes</td>\n",
       "    </tr>\n",
       "    <tr>\n",
       "      <th>180</th>\n",
       "      <td>6317-YPKDH</td>\n",
       "      <td>Female</td>\n",
       "      <td>0</td>\n",
       "      <td>No</td>\n",
       "      <td>No</td>\n",
       "      <td>1</td>\n",
       "      <td>No</td>\n",
       "      <td>No phone service</td>\n",
       "      <td>DSL</td>\n",
       "      <td>No</td>\n",
       "      <td>...</td>\n",
       "      <td>No</td>\n",
       "      <td>No</td>\n",
       "      <td>No</td>\n",
       "      <td>No</td>\n",
       "      <td>Month-to-month</td>\n",
       "      <td>No</td>\n",
       "      <td>Bank transfer (automatic)</td>\n",
       "      <td>29.95</td>\n",
       "      <td>29.95</td>\n",
       "      <td>Yes</td>\n",
       "    </tr>\n",
       "    <tr>\n",
       "      <th>252</th>\n",
       "      <td>9514-JDSKI</td>\n",
       "      <td>Male</td>\n",
       "      <td>1</td>\n",
       "      <td>Yes</td>\n",
       "      <td>No</td>\n",
       "      <td>1</td>\n",
       "      <td>No</td>\n",
       "      <td>No phone service</td>\n",
       "      <td>DSL</td>\n",
       "      <td>No</td>\n",
       "      <td>...</td>\n",
       "      <td>No</td>\n",
       "      <td>No</td>\n",
       "      <td>Yes</td>\n",
       "      <td>No</td>\n",
       "      <td>Month-to-month</td>\n",
       "      <td>No</td>\n",
       "      <td>Electronic check</td>\n",
       "      <td>40.20</td>\n",
       "      <td>40.20</td>\n",
       "      <td>Yes</td>\n",
       "    </tr>\n",
       "    <tr>\n",
       "      <th>900</th>\n",
       "      <td>1051-GEJLJ</td>\n",
       "      <td>Female</td>\n",
       "      <td>0</td>\n",
       "      <td>No</td>\n",
       "      <td>No</td>\n",
       "      <td>2</td>\n",
       "      <td>Yes</td>\n",
       "      <td>No</td>\n",
       "      <td>No</td>\n",
       "      <td>No internet service</td>\n",
       "      <td>...</td>\n",
       "      <td>No internet service</td>\n",
       "      <td>No internet service</td>\n",
       "      <td>No internet service</td>\n",
       "      <td>No internet service</td>\n",
       "      <td>Month-to-month</td>\n",
       "      <td>No</td>\n",
       "      <td>Mailed check</td>\n",
       "      <td>19.50</td>\n",
       "      <td>27.55</td>\n",
       "      <td>No</td>\n",
       "    </tr>\n",
       "    <tr>\n",
       "      <th>1282</th>\n",
       "      <td>6260-ONULR</td>\n",
       "      <td>Male</td>\n",
       "      <td>0</td>\n",
       "      <td>No</td>\n",
       "      <td>No</td>\n",
       "      <td>1</td>\n",
       "      <td>Yes</td>\n",
       "      <td>No</td>\n",
       "      <td>DSL</td>\n",
       "      <td>No</td>\n",
       "      <td>...</td>\n",
       "      <td>No</td>\n",
       "      <td>No</td>\n",
       "      <td>Yes</td>\n",
       "      <td>Yes</td>\n",
       "      <td>Month-to-month</td>\n",
       "      <td>Yes</td>\n",
       "      <td>Mailed check</td>\n",
       "      <td>62.80</td>\n",
       "      <td>62.80</td>\n",
       "      <td>No</td>\n",
       "    </tr>\n",
       "    <tr>\n",
       "      <th>3677</th>\n",
       "      <td>6656-JWRQX</td>\n",
       "      <td>Female</td>\n",
       "      <td>0</td>\n",
       "      <td>No</td>\n",
       "      <td>No</td>\n",
       "      <td>1</td>\n",
       "      <td>No</td>\n",
       "      <td>No phone service</td>\n",
       "      <td>DSL</td>\n",
       "      <td>No</td>\n",
       "      <td>...</td>\n",
       "      <td>No</td>\n",
       "      <td>Yes</td>\n",
       "      <td>No</td>\n",
       "      <td>No</td>\n",
       "      <td>Month-to-month</td>\n",
       "      <td>No</td>\n",
       "      <td>Mailed check</td>\n",
       "      <td>30.55</td>\n",
       "      <td>30.55</td>\n",
       "      <td>No</td>\n",
       "    </tr>\n",
       "    <tr>\n",
       "      <th>3753</th>\n",
       "      <td>1816-FLZDK</td>\n",
       "      <td>Male</td>\n",
       "      <td>0</td>\n",
       "      <td>No</td>\n",
       "      <td>No</td>\n",
       "      <td>1</td>\n",
       "      <td>No</td>\n",
       "      <td>No phone service</td>\n",
       "      <td>DSL</td>\n",
       "      <td>No</td>\n",
       "      <td>...</td>\n",
       "      <td>No</td>\n",
       "      <td>Yes</td>\n",
       "      <td>No</td>\n",
       "      <td>No</td>\n",
       "      <td>Month-to-month</td>\n",
       "      <td>No</td>\n",
       "      <td>Mailed check</td>\n",
       "      <td>29.15</td>\n",
       "      <td>29.15</td>\n",
       "      <td>No</td>\n",
       "    </tr>\n",
       "    <tr>\n",
       "      <th>3790</th>\n",
       "      <td>6598-RFFVI</td>\n",
       "      <td>Male</td>\n",
       "      <td>0</td>\n",
       "      <td>No</td>\n",
       "      <td>No</td>\n",
       "      <td>2</td>\n",
       "      <td>Yes</td>\n",
       "      <td>No</td>\n",
       "      <td>No</td>\n",
       "      <td>No internet service</td>\n",
       "      <td>...</td>\n",
       "      <td>No internet service</td>\n",
       "      <td>No internet service</td>\n",
       "      <td>No internet service</td>\n",
       "      <td>No internet service</td>\n",
       "      <td>One year</td>\n",
       "      <td>No</td>\n",
       "      <td>Credit card (automatic)</td>\n",
       "      <td>19.30</td>\n",
       "      <td>28.30</td>\n",
       "      <td>Yes</td>\n",
       "    </tr>\n",
       "    <tr>\n",
       "      <th>3902</th>\n",
       "      <td>5999-LCXAO</td>\n",
       "      <td>Female</td>\n",
       "      <td>0</td>\n",
       "      <td>No</td>\n",
       "      <td>No</td>\n",
       "      <td>1</td>\n",
       "      <td>No</td>\n",
       "      <td>No phone service</td>\n",
       "      <td>DSL</td>\n",
       "      <td>Yes</td>\n",
       "      <td>...</td>\n",
       "      <td>No</td>\n",
       "      <td>No</td>\n",
       "      <td>No</td>\n",
       "      <td>No</td>\n",
       "      <td>Month-to-month</td>\n",
       "      <td>No</td>\n",
       "      <td>Mailed check</td>\n",
       "      <td>29.90</td>\n",
       "      <td>29.90</td>\n",
       "      <td>No</td>\n",
       "    </tr>\n",
       "    <tr>\n",
       "      <th>4262</th>\n",
       "      <td>5485-WUYWF</td>\n",
       "      <td>Male</td>\n",
       "      <td>1</td>\n",
       "      <td>No</td>\n",
       "      <td>No</td>\n",
       "      <td>2</td>\n",
       "      <td>Yes</td>\n",
       "      <td>No</td>\n",
       "      <td>DSL</td>\n",
       "      <td>Yes</td>\n",
       "      <td>...</td>\n",
       "      <td>Yes</td>\n",
       "      <td>No</td>\n",
       "      <td>Yes</td>\n",
       "      <td>No</td>\n",
       "      <td>Month-to-month</td>\n",
       "      <td>No</td>\n",
       "      <td>Bank transfer (automatic)</td>\n",
       "      <td>66.40</td>\n",
       "      <td>94.55</td>\n",
       "      <td>Yes</td>\n",
       "    </tr>\n",
       "    <tr>\n",
       "      <th>4290</th>\n",
       "      <td>7734-DBOAI</td>\n",
       "      <td>Female</td>\n",
       "      <td>0</td>\n",
       "      <td>Yes</td>\n",
       "      <td>Yes</td>\n",
       "      <td>1</td>\n",
       "      <td>No</td>\n",
       "      <td>No phone service</td>\n",
       "      <td>DSL</td>\n",
       "      <td>No</td>\n",
       "      <td>...</td>\n",
       "      <td>No</td>\n",
       "      <td>Yes</td>\n",
       "      <td>Yes</td>\n",
       "      <td>No</td>\n",
       "      <td>Month-to-month</td>\n",
       "      <td>No</td>\n",
       "      <td>Electronic check</td>\n",
       "      <td>40.10</td>\n",
       "      <td>40.10</td>\n",
       "      <td>Yes</td>\n",
       "    </tr>\n",
       "    <tr>\n",
       "      <th>4725</th>\n",
       "      <td>1541-ETJZO</td>\n",
       "      <td>Male</td>\n",
       "      <td>0</td>\n",
       "      <td>No</td>\n",
       "      <td>No</td>\n",
       "      <td>1</td>\n",
       "      <td>Yes</td>\n",
       "      <td>Yes</td>\n",
       "      <td>DSL</td>\n",
       "      <td>No</td>\n",
       "      <td>...</td>\n",
       "      <td>Yes</td>\n",
       "      <td>Yes</td>\n",
       "      <td>No</td>\n",
       "      <td>No</td>\n",
       "      <td>Month-to-month</td>\n",
       "      <td>No</td>\n",
       "      <td>Mailed check</td>\n",
       "      <td>62.05</td>\n",
       "      <td>62.05</td>\n",
       "      <td>Yes</td>\n",
       "    </tr>\n",
       "    <tr>\n",
       "      <th>6080</th>\n",
       "      <td>9526-BIHHD</td>\n",
       "      <td>Male</td>\n",
       "      <td>0</td>\n",
       "      <td>No</td>\n",
       "      <td>No</td>\n",
       "      <td>1</td>\n",
       "      <td>No</td>\n",
       "      <td>No phone service</td>\n",
       "      <td>DSL</td>\n",
       "      <td>Yes</td>\n",
       "      <td>...</td>\n",
       "      <td>No</td>\n",
       "      <td>No</td>\n",
       "      <td>No</td>\n",
       "      <td>No</td>\n",
       "      <td>Month-to-month</td>\n",
       "      <td>No</td>\n",
       "      <td>Mailed check</td>\n",
       "      <td>29.70</td>\n",
       "      <td>29.70</td>\n",
       "      <td>Yes</td>\n",
       "    </tr>\n",
       "  </tbody>\n",
       "</table>\n",
       "<p>15 rows × 21 columns</p>\n",
       "</div>"
      ],
      "text/plain": [
       "      customerID  gender  SeniorCitizen Partner Dependents  tenure  \\\n",
       "0     7590-VHVEG  Female              0     Yes         No       1   \n",
       "20    8779-QRDMV    Male              1      No         No       1   \n",
       "27    8665-UTDHZ    Male              0     Yes        Yes       1   \n",
       "180   6317-YPKDH  Female              0      No         No       1   \n",
       "252   9514-JDSKI    Male              1     Yes         No       1   \n",
       "900   1051-GEJLJ  Female              0      No         No       2   \n",
       "1282  6260-ONULR    Male              0      No         No       1   \n",
       "3677  6656-JWRQX  Female              0      No         No       1   \n",
       "3753  1816-FLZDK    Male              0      No         No       1   \n",
       "3790  6598-RFFVI    Male              0      No         No       2   \n",
       "3902  5999-LCXAO  Female              0      No         No       1   \n",
       "4262  5485-WUYWF    Male              1      No         No       2   \n",
       "4290  7734-DBOAI  Female              0     Yes        Yes       1   \n",
       "4725  1541-ETJZO    Male              0      No         No       1   \n",
       "6080  9526-BIHHD    Male              0      No         No       1   \n",
       "\n",
       "     PhoneService     MultipleLines InternetService       OnlineSecurity  ...  \\\n",
       "0              No  No phone service             DSL                   No  ...   \n",
       "20             No  No phone service             DSL                   No  ...   \n",
       "27             No  No phone service             DSL                   No  ...   \n",
       "180            No  No phone service             DSL                   No  ...   \n",
       "252            No  No phone service             DSL                   No  ...   \n",
       "900           Yes                No              No  No internet service  ...   \n",
       "1282          Yes                No             DSL                   No  ...   \n",
       "3677           No  No phone service             DSL                   No  ...   \n",
       "3753           No  No phone service             DSL                   No  ...   \n",
       "3790          Yes                No              No  No internet service  ...   \n",
       "3902           No  No phone service             DSL                  Yes  ...   \n",
       "4262          Yes                No             DSL                  Yes  ...   \n",
       "4290           No  No phone service             DSL                   No  ...   \n",
       "4725          Yes               Yes             DSL                   No  ...   \n",
       "6080           No  No phone service             DSL                  Yes  ...   \n",
       "\n",
       "         DeviceProtection          TechSupport          StreamingTV  \\\n",
       "0                      No                   No                   No   \n",
       "20                    Yes                   No                   No   \n",
       "27                     No                   No                   No   \n",
       "180                    No                   No                   No   \n",
       "252                    No                   No                  Yes   \n",
       "900   No internet service  No internet service  No internet service   \n",
       "1282                   No                   No                  Yes   \n",
       "3677                   No                  Yes                   No   \n",
       "3753                   No                  Yes                   No   \n",
       "3790  No internet service  No internet service  No internet service   \n",
       "3902                   No                   No                   No   \n",
       "4262                  Yes                   No                  Yes   \n",
       "4290                   No                  Yes                  Yes   \n",
       "4725                  Yes                  Yes                   No   \n",
       "6080                   No                   No                   No   \n",
       "\n",
       "          StreamingMovies        Contract PaperlessBilling  \\\n",
       "0                      No  Month-to-month              Yes   \n",
       "20                    Yes  Month-to-month              Yes   \n",
       "27                     No  Month-to-month               No   \n",
       "180                    No  Month-to-month               No   \n",
       "252                    No  Month-to-month               No   \n",
       "900   No internet service  Month-to-month               No   \n",
       "1282                  Yes  Month-to-month              Yes   \n",
       "3677                   No  Month-to-month               No   \n",
       "3753                   No  Month-to-month               No   \n",
       "3790  No internet service        One year               No   \n",
       "3902                   No  Month-to-month               No   \n",
       "4262                   No  Month-to-month               No   \n",
       "4290                   No  Month-to-month               No   \n",
       "4725                   No  Month-to-month               No   \n",
       "6080                   No  Month-to-month               No   \n",
       "\n",
       "                  PaymentMethod MonthlyCharges  TotalCharges  Churn  \n",
       "0              Electronic check          29.85         29.85     No  \n",
       "20             Electronic check          39.65         39.65    Yes  \n",
       "27             Electronic check          30.20         30.20    Yes  \n",
       "180   Bank transfer (automatic)          29.95         29.95    Yes  \n",
       "252            Electronic check          40.20         40.20    Yes  \n",
       "900                Mailed check          19.50         27.55     No  \n",
       "1282               Mailed check          62.80         62.80     No  \n",
       "3677               Mailed check          30.55         30.55     No  \n",
       "3753               Mailed check          29.15         29.15     No  \n",
       "3790    Credit card (automatic)          19.30         28.30    Yes  \n",
       "3902               Mailed check          29.90         29.90     No  \n",
       "4262  Bank transfer (automatic)          66.40         94.55    Yes  \n",
       "4290           Electronic check          40.10         40.10    Yes  \n",
       "4725               Mailed check          62.05         62.05    Yes  \n",
       "6080               Mailed check          29.70         29.70    Yes  \n",
       "\n",
       "[15 rows x 21 columns]"
      ]
     },
     "execution_count": 29,
     "metadata": {},
     "output_type": "execute_result"
    }
   ],
   "source": [
    "th = np.sort(df_scores)[15]\n",
    "df[df_scores < th]"
   ]
  },
  {
   "cell_type": "code",
   "execution_count": 30,
   "id": "dcf0c916",
   "metadata": {
    "execution": {
     "iopub.execute_input": "2023-11-21T18:50:55.136195Z",
     "iopub.status.busy": "2023-11-21T18:50:55.135742Z",
     "iopub.status.idle": "2023-11-21T18:50:55.145279Z",
     "shell.execute_reply": "2023-11-21T18:50:55.143842Z"
    },
    "papermill": {
     "duration": 0.042231,
     "end_time": "2023-11-21T18:50:55.148179",
     "exception": false,
     "start_time": "2023-11-21T18:50:55.105948",
     "status": "completed"
    },
    "tags": []
   },
   "outputs": [],
   "source": [
    "df.drop(df[df_scores < th].index,inplace=True)"
   ]
  },
  {
   "cell_type": "code",
   "execution_count": 31,
   "id": "e73b69aa",
   "metadata": {
    "execution": {
     "iopub.execute_input": "2023-11-21T18:50:55.206245Z",
     "iopub.status.busy": "2023-11-21T18:50:55.205782Z",
     "iopub.status.idle": "2023-11-21T18:50:55.212944Z",
     "shell.execute_reply": "2023-11-21T18:50:55.211827Z"
    },
    "papermill": {
     "duration": 0.039381,
     "end_time": "2023-11-21T18:50:55.215449",
     "exception": false,
     "start_time": "2023-11-21T18:50:55.176068",
     "status": "completed"
    },
    "tags": []
   },
   "outputs": [
    {
     "data": {
      "text/plain": [
       "(7017, 21)"
      ]
     },
     "execution_count": 31,
     "metadata": {},
     "output_type": "execute_result"
    }
   ],
   "source": [
    "df.shape"
   ]
  },
  {
   "cell_type": "markdown",
   "id": "c809d1ed",
   "metadata": {
    "papermill": {
     "duration": 0.027931,
     "end_time": "2023-11-21T18:50:55.270863",
     "exception": false,
     "start_time": "2023-11-21T18:50:55.242932",
     "status": "completed"
    },
    "tags": []
   },
   "source": [
    "**2.2 Create New Features**"
   ]
  },
  {
   "cell_type": "code",
   "execution_count": null,
   "id": "42fd12e6",
   "metadata": {
    "papermill": {
     "duration": 0.029559,
     "end_time": "2023-11-21T18:50:55.328522",
     "exception": false,
     "start_time": "2023-11-21T18:50:55.298963",
     "status": "completed"
    },
    "tags": []
   },
   "outputs": [],
   "source": []
  },
  {
   "cell_type": "markdown",
   "id": "4b4e5463",
   "metadata": {
    "papermill": {
     "duration": 0.028905,
     "end_time": "2023-11-21T18:50:55.386049",
     "exception": false,
     "start_time": "2023-11-21T18:50:55.357144",
     "status": "completed"
    },
    "tags": []
   },
   "source": [
    "**2.3 Encoding**"
   ]
  },
  {
   "cell_type": "code",
   "execution_count": 32,
   "id": "545bad35",
   "metadata": {
    "execution": {
     "iopub.execute_input": "2023-11-21T18:50:55.445353Z",
     "iopub.status.busy": "2023-11-21T18:50:55.444913Z",
     "iopub.status.idle": "2023-11-21T18:50:55.468089Z",
     "shell.execute_reply": "2023-11-21T18:50:55.466887Z"
    },
    "papermill": {
     "duration": 0.05572,
     "end_time": "2023-11-21T18:50:55.470831",
     "exception": false,
     "start_time": "2023-11-21T18:50:55.415111",
     "status": "completed"
    },
    "tags": []
   },
   "outputs": [
    {
     "data": {
      "text/plain": [
       "['gender',\n",
       " 'Partner',\n",
       " 'Dependents',\n",
       " 'PhoneService',\n",
       " 'PaperlessBilling',\n",
       " 'Churn']"
      ]
     },
     "execution_count": 32,
     "metadata": {},
     "output_type": "execute_result"
    }
   ],
   "source": [
    "binary_cols = [col for col in cat_cols if df[col].dtype not in [int,float] and df[col].nunique()==2]\n",
    "binary_cols"
   ]
  },
  {
   "cell_type": "code",
   "execution_count": 33,
   "id": "1aeb87cf",
   "metadata": {
    "execution": {
     "iopub.execute_input": "2023-11-21T18:50:55.532819Z",
     "iopub.status.busy": "2023-11-21T18:50:55.532409Z",
     "iopub.status.idle": "2023-11-21T18:50:55.577611Z",
     "shell.execute_reply": "2023-11-21T18:50:55.575682Z"
    },
    "papermill": {
     "duration": 0.080988,
     "end_time": "2023-11-21T18:50:55.581074",
     "exception": false,
     "start_time": "2023-11-21T18:50:55.500086",
     "status": "completed"
    },
    "tags": []
   },
   "outputs": [
    {
     "data": {
      "text/html": [
       "<div>\n",
       "<style scoped>\n",
       "    .dataframe tbody tr th:only-of-type {\n",
       "        vertical-align: middle;\n",
       "    }\n",
       "\n",
       "    .dataframe tbody tr th {\n",
       "        vertical-align: top;\n",
       "    }\n",
       "\n",
       "    .dataframe thead th {\n",
       "        text-align: right;\n",
       "    }\n",
       "</style>\n",
       "<table border=\"1\" class=\"dataframe\">\n",
       "  <thead>\n",
       "    <tr style=\"text-align: right;\">\n",
       "      <th></th>\n",
       "      <th>customerID</th>\n",
       "      <th>gender</th>\n",
       "      <th>SeniorCitizen</th>\n",
       "      <th>Partner</th>\n",
       "      <th>Dependents</th>\n",
       "      <th>tenure</th>\n",
       "      <th>PhoneService</th>\n",
       "      <th>MultipleLines</th>\n",
       "      <th>InternetService</th>\n",
       "      <th>OnlineSecurity</th>\n",
       "      <th>...</th>\n",
       "      <th>DeviceProtection</th>\n",
       "      <th>TechSupport</th>\n",
       "      <th>StreamingTV</th>\n",
       "      <th>StreamingMovies</th>\n",
       "      <th>Contract</th>\n",
       "      <th>PaperlessBilling</th>\n",
       "      <th>PaymentMethod</th>\n",
       "      <th>MonthlyCharges</th>\n",
       "      <th>TotalCharges</th>\n",
       "      <th>Churn</th>\n",
       "    </tr>\n",
       "  </thead>\n",
       "  <tbody>\n",
       "    <tr>\n",
       "      <th>1</th>\n",
       "      <td>5575-GNVDE</td>\n",
       "      <td>1</td>\n",
       "      <td>0</td>\n",
       "      <td>0</td>\n",
       "      <td>0</td>\n",
       "      <td>34</td>\n",
       "      <td>1</td>\n",
       "      <td>No</td>\n",
       "      <td>DSL</td>\n",
       "      <td>Yes</td>\n",
       "      <td>...</td>\n",
       "      <td>Yes</td>\n",
       "      <td>No</td>\n",
       "      <td>No</td>\n",
       "      <td>No</td>\n",
       "      <td>One year</td>\n",
       "      <td>0</td>\n",
       "      <td>Mailed check</td>\n",
       "      <td>56.95</td>\n",
       "      <td>1889.50</td>\n",
       "      <td>0</td>\n",
       "    </tr>\n",
       "    <tr>\n",
       "      <th>2</th>\n",
       "      <td>3668-QPYBK</td>\n",
       "      <td>1</td>\n",
       "      <td>0</td>\n",
       "      <td>0</td>\n",
       "      <td>0</td>\n",
       "      <td>2</td>\n",
       "      <td>1</td>\n",
       "      <td>No</td>\n",
       "      <td>DSL</td>\n",
       "      <td>Yes</td>\n",
       "      <td>...</td>\n",
       "      <td>No</td>\n",
       "      <td>No</td>\n",
       "      <td>No</td>\n",
       "      <td>No</td>\n",
       "      <td>Month-to-month</td>\n",
       "      <td>1</td>\n",
       "      <td>Mailed check</td>\n",
       "      <td>53.85</td>\n",
       "      <td>108.15</td>\n",
       "      <td>1</td>\n",
       "    </tr>\n",
       "    <tr>\n",
       "      <th>3</th>\n",
       "      <td>7795-CFOCW</td>\n",
       "      <td>1</td>\n",
       "      <td>0</td>\n",
       "      <td>0</td>\n",
       "      <td>0</td>\n",
       "      <td>45</td>\n",
       "      <td>0</td>\n",
       "      <td>No phone service</td>\n",
       "      <td>DSL</td>\n",
       "      <td>Yes</td>\n",
       "      <td>...</td>\n",
       "      <td>Yes</td>\n",
       "      <td>Yes</td>\n",
       "      <td>No</td>\n",
       "      <td>No</td>\n",
       "      <td>One year</td>\n",
       "      <td>0</td>\n",
       "      <td>Bank transfer (automatic)</td>\n",
       "      <td>42.30</td>\n",
       "      <td>1840.75</td>\n",
       "      <td>0</td>\n",
       "    </tr>\n",
       "    <tr>\n",
       "      <th>4</th>\n",
       "      <td>9237-HQITU</td>\n",
       "      <td>0</td>\n",
       "      <td>0</td>\n",
       "      <td>0</td>\n",
       "      <td>0</td>\n",
       "      <td>2</td>\n",
       "      <td>1</td>\n",
       "      <td>No</td>\n",
       "      <td>Fiber optic</td>\n",
       "      <td>No</td>\n",
       "      <td>...</td>\n",
       "      <td>No</td>\n",
       "      <td>No</td>\n",
       "      <td>No</td>\n",
       "      <td>No</td>\n",
       "      <td>Month-to-month</td>\n",
       "      <td>1</td>\n",
       "      <td>Electronic check</td>\n",
       "      <td>70.70</td>\n",
       "      <td>151.65</td>\n",
       "      <td>1</td>\n",
       "    </tr>\n",
       "    <tr>\n",
       "      <th>5</th>\n",
       "      <td>9305-CDSKC</td>\n",
       "      <td>0</td>\n",
       "      <td>0</td>\n",
       "      <td>0</td>\n",
       "      <td>0</td>\n",
       "      <td>8</td>\n",
       "      <td>1</td>\n",
       "      <td>Yes</td>\n",
       "      <td>Fiber optic</td>\n",
       "      <td>No</td>\n",
       "      <td>...</td>\n",
       "      <td>Yes</td>\n",
       "      <td>No</td>\n",
       "      <td>Yes</td>\n",
       "      <td>Yes</td>\n",
       "      <td>Month-to-month</td>\n",
       "      <td>1</td>\n",
       "      <td>Electronic check</td>\n",
       "      <td>99.65</td>\n",
       "      <td>820.50</td>\n",
       "      <td>1</td>\n",
       "    </tr>\n",
       "  </tbody>\n",
       "</table>\n",
       "<p>5 rows × 21 columns</p>\n",
       "</div>"
      ],
      "text/plain": [
       "   customerID  gender  SeniorCitizen  Partner  Dependents  tenure  \\\n",
       "1  5575-GNVDE       1              0        0           0      34   \n",
       "2  3668-QPYBK       1              0        0           0       2   \n",
       "3  7795-CFOCW       1              0        0           0      45   \n",
       "4  9237-HQITU       0              0        0           0       2   \n",
       "5  9305-CDSKC       0              0        0           0       8   \n",
       "\n",
       "   PhoneService     MultipleLines InternetService OnlineSecurity  ...  \\\n",
       "1             1                No             DSL            Yes  ...   \n",
       "2             1                No             DSL            Yes  ...   \n",
       "3             0  No phone service             DSL            Yes  ...   \n",
       "4             1                No     Fiber optic             No  ...   \n",
       "5             1               Yes     Fiber optic             No  ...   \n",
       "\n",
       "  DeviceProtection TechSupport StreamingTV StreamingMovies        Contract  \\\n",
       "1              Yes          No          No              No        One year   \n",
       "2               No          No          No              No  Month-to-month   \n",
       "3              Yes         Yes          No              No        One year   \n",
       "4               No          No          No              No  Month-to-month   \n",
       "5              Yes          No         Yes             Yes  Month-to-month   \n",
       "\n",
       "  PaperlessBilling              PaymentMethod MonthlyCharges  TotalCharges  \\\n",
       "1                0               Mailed check          56.95       1889.50   \n",
       "2                1               Mailed check          53.85        108.15   \n",
       "3                0  Bank transfer (automatic)          42.30       1840.75   \n",
       "4                1           Electronic check          70.70        151.65   \n",
       "5                1           Electronic check          99.65        820.50   \n",
       "\n",
       "   Churn  \n",
       "1      0  \n",
       "2      1  \n",
       "3      0  \n",
       "4      1  \n",
       "5      1  \n",
       "\n",
       "[5 rows x 21 columns]"
      ]
     },
     "execution_count": 33,
     "metadata": {},
     "output_type": "execute_result"
    }
   ],
   "source": [
    "from sklearn.preprocessing import LabelEncoder\n",
    "for col in binary_cols:\n",
    "    labelEncoder = LabelEncoder()\n",
    "    df[col] = (labelEncoder.fit_transform(df[col]))\n",
    "df.head()"
   ]
  },
  {
   "cell_type": "code",
   "execution_count": 34,
   "id": "48e201e4",
   "metadata": {
    "execution": {
     "iopub.execute_input": "2023-11-21T18:50:55.643253Z",
     "iopub.status.busy": "2023-11-21T18:50:55.641863Z",
     "iopub.status.idle": "2023-11-21T18:50:55.661241Z",
     "shell.execute_reply": "2023-11-21T18:50:55.659919Z"
    },
    "papermill": {
     "duration": 0.054127,
     "end_time": "2023-11-21T18:50:55.664321",
     "exception": false,
     "start_time": "2023-11-21T18:50:55.610194",
     "status": "completed"
    },
    "tags": []
   },
   "outputs": [
    {
     "data": {
      "text/plain": [
       "['MultipleLines',\n",
       " 'InternetService',\n",
       " 'OnlineSecurity',\n",
       " 'OnlineBackup',\n",
       " 'DeviceProtection',\n",
       " 'TechSupport',\n",
       " 'StreamingTV',\n",
       " 'StreamingMovies',\n",
       " 'Contract',\n",
       " 'PaymentMethod']"
      ]
     },
     "execution_count": 34,
     "metadata": {},
     "output_type": "execute_result"
    }
   ],
   "source": [
    "non_binary_cols = [col for col in cat_cols if  10>=df[col].nunique()>2]\n",
    "non_binary_cols"
   ]
  },
  {
   "cell_type": "code",
   "execution_count": 35,
   "id": "86ddccbb",
   "metadata": {
    "execution": {
     "iopub.execute_input": "2023-11-21T18:50:55.724755Z",
     "iopub.status.busy": "2023-11-21T18:50:55.724311Z",
     "iopub.status.idle": "2023-11-21T18:50:55.749405Z",
     "shell.execute_reply": "2023-11-21T18:50:55.748109Z"
    },
    "papermill": {
     "duration": 0.058492,
     "end_time": "2023-11-21T18:50:55.752661",
     "exception": false,
     "start_time": "2023-11-21T18:50:55.694169",
     "status": "completed"
    },
    "tags": []
   },
   "outputs": [
    {
     "name": "stdout",
     "output_type": "stream",
     "text": [
      "MultipleLines MultipleLines\n",
      "No                  3381\n",
      "Yes                 2966\n",
      "No phone service     670\n",
      "Name: count, dtype: int64\n",
      "--\n",
      "InternetService InternetService\n",
      "Fiber optic    3096\n",
      "DSL            2403\n",
      "No             1518\n",
      "Name: count, dtype: int64\n",
      "--\n",
      "OnlineSecurity OnlineSecurity\n",
      "No                     3487\n",
      "Yes                    2012\n",
      "No internet service    1518\n",
      "Name: count, dtype: int64\n",
      "--\n",
      "OnlineBackup OnlineBackup\n",
      "No                     3078\n",
      "Yes                    2421\n",
      "No internet service    1518\n",
      "Name: count, dtype: int64\n",
      "--\n",
      "DeviceProtection DeviceProtection\n",
      "No                     3084\n",
      "Yes                    2415\n",
      "No internet service    1518\n",
      "Name: count, dtype: int64\n",
      "--\n",
      "TechSupport TechSupport\n",
      "No                     3463\n",
      "Yes                    2036\n",
      "No internet service    1518\n",
      "Name: count, dtype: int64\n",
      "--\n",
      "StreamingTV StreamingTV\n",
      "No                     2800\n",
      "Yes                    2699\n",
      "No internet service    1518\n",
      "Name: count, dtype: int64\n",
      "--\n",
      "StreamingMovies StreamingMovies\n",
      "No                     2770\n",
      "Yes                    2729\n",
      "No internet service    1518\n",
      "Name: count, dtype: int64\n",
      "--\n",
      "Contract Contract\n",
      "Month-to-month    3861\n",
      "Two year          1685\n",
      "One year          1471\n",
      "Name: count, dtype: int64\n",
      "--\n",
      "PaymentMethod PaymentMethod\n",
      "Electronic check             2360\n",
      "Mailed check                 1597\n",
      "Bank transfer (automatic)    1540\n",
      "Credit card (automatic)      1520\n",
      "Name: count, dtype: int64\n",
      "--\n"
     ]
    }
   ],
   "source": [
    "for col in non_binary_cols:\n",
    "    print( col , df[col].value_counts() )\n",
    "    print(\"--\")"
   ]
  },
  {
   "cell_type": "code",
   "execution_count": 36,
   "id": "99cd3c75",
   "metadata": {
    "execution": {
     "iopub.execute_input": "2023-11-21T18:50:55.814059Z",
     "iopub.status.busy": "2023-11-21T18:50:55.813665Z",
     "iopub.status.idle": "2023-11-21T18:50:55.866486Z",
     "shell.execute_reply": "2023-11-21T18:50:55.865051Z"
    },
    "papermill": {
     "duration": 0.087297,
     "end_time": "2023-11-21T18:50:55.869317",
     "exception": false,
     "start_time": "2023-11-21T18:50:55.782020",
     "status": "completed"
    },
    "tags": []
   },
   "outputs": [
    {
     "data": {
      "text/html": [
       "<div>\n",
       "<style scoped>\n",
       "    .dataframe tbody tr th:only-of-type {\n",
       "        vertical-align: middle;\n",
       "    }\n",
       "\n",
       "    .dataframe tbody tr th {\n",
       "        vertical-align: top;\n",
       "    }\n",
       "\n",
       "    .dataframe thead th {\n",
       "        text-align: right;\n",
       "    }\n",
       "</style>\n",
       "<table border=\"1\" class=\"dataframe\">\n",
       "  <thead>\n",
       "    <tr style=\"text-align: right;\">\n",
       "      <th></th>\n",
       "      <th>customerID</th>\n",
       "      <th>gender</th>\n",
       "      <th>SeniorCitizen</th>\n",
       "      <th>Partner</th>\n",
       "      <th>Dependents</th>\n",
       "      <th>tenure</th>\n",
       "      <th>PhoneService</th>\n",
       "      <th>PaperlessBilling</th>\n",
       "      <th>MonthlyCharges</th>\n",
       "      <th>TotalCharges</th>\n",
       "      <th>...</th>\n",
       "      <th>TechSupport_Yes</th>\n",
       "      <th>StreamingTV_No internet service</th>\n",
       "      <th>StreamingTV_Yes</th>\n",
       "      <th>StreamingMovies_No internet service</th>\n",
       "      <th>StreamingMovies_Yes</th>\n",
       "      <th>Contract_One year</th>\n",
       "      <th>Contract_Two year</th>\n",
       "      <th>PaymentMethod_Credit card (automatic)</th>\n",
       "      <th>PaymentMethod_Electronic check</th>\n",
       "      <th>PaymentMethod_Mailed check</th>\n",
       "    </tr>\n",
       "  </thead>\n",
       "  <tbody>\n",
       "    <tr>\n",
       "      <th>1</th>\n",
       "      <td>5575-GNVDE</td>\n",
       "      <td>1</td>\n",
       "      <td>0</td>\n",
       "      <td>0</td>\n",
       "      <td>0</td>\n",
       "      <td>34</td>\n",
       "      <td>1</td>\n",
       "      <td>0</td>\n",
       "      <td>56.95</td>\n",
       "      <td>1889.50</td>\n",
       "      <td>...</td>\n",
       "      <td>0</td>\n",
       "      <td>0</td>\n",
       "      <td>0</td>\n",
       "      <td>0</td>\n",
       "      <td>0</td>\n",
       "      <td>1</td>\n",
       "      <td>0</td>\n",
       "      <td>0</td>\n",
       "      <td>0</td>\n",
       "      <td>1</td>\n",
       "    </tr>\n",
       "    <tr>\n",
       "      <th>2</th>\n",
       "      <td>3668-QPYBK</td>\n",
       "      <td>1</td>\n",
       "      <td>0</td>\n",
       "      <td>0</td>\n",
       "      <td>0</td>\n",
       "      <td>2</td>\n",
       "      <td>1</td>\n",
       "      <td>1</td>\n",
       "      <td>53.85</td>\n",
       "      <td>108.15</td>\n",
       "      <td>...</td>\n",
       "      <td>0</td>\n",
       "      <td>0</td>\n",
       "      <td>0</td>\n",
       "      <td>0</td>\n",
       "      <td>0</td>\n",
       "      <td>0</td>\n",
       "      <td>0</td>\n",
       "      <td>0</td>\n",
       "      <td>0</td>\n",
       "      <td>1</td>\n",
       "    </tr>\n",
       "    <tr>\n",
       "      <th>3</th>\n",
       "      <td>7795-CFOCW</td>\n",
       "      <td>1</td>\n",
       "      <td>0</td>\n",
       "      <td>0</td>\n",
       "      <td>0</td>\n",
       "      <td>45</td>\n",
       "      <td>0</td>\n",
       "      <td>0</td>\n",
       "      <td>42.30</td>\n",
       "      <td>1840.75</td>\n",
       "      <td>...</td>\n",
       "      <td>1</td>\n",
       "      <td>0</td>\n",
       "      <td>0</td>\n",
       "      <td>0</td>\n",
       "      <td>0</td>\n",
       "      <td>1</td>\n",
       "      <td>0</td>\n",
       "      <td>0</td>\n",
       "      <td>0</td>\n",
       "      <td>0</td>\n",
       "    </tr>\n",
       "    <tr>\n",
       "      <th>4</th>\n",
       "      <td>9237-HQITU</td>\n",
       "      <td>0</td>\n",
       "      <td>0</td>\n",
       "      <td>0</td>\n",
       "      <td>0</td>\n",
       "      <td>2</td>\n",
       "      <td>1</td>\n",
       "      <td>1</td>\n",
       "      <td>70.70</td>\n",
       "      <td>151.65</td>\n",
       "      <td>...</td>\n",
       "      <td>0</td>\n",
       "      <td>0</td>\n",
       "      <td>0</td>\n",
       "      <td>0</td>\n",
       "      <td>0</td>\n",
       "      <td>0</td>\n",
       "      <td>0</td>\n",
       "      <td>0</td>\n",
       "      <td>1</td>\n",
       "      <td>0</td>\n",
       "    </tr>\n",
       "    <tr>\n",
       "      <th>5</th>\n",
       "      <td>9305-CDSKC</td>\n",
       "      <td>0</td>\n",
       "      <td>0</td>\n",
       "      <td>0</td>\n",
       "      <td>0</td>\n",
       "      <td>8</td>\n",
       "      <td>1</td>\n",
       "      <td>1</td>\n",
       "      <td>99.65</td>\n",
       "      <td>820.50</td>\n",
       "      <td>...</td>\n",
       "      <td>0</td>\n",
       "      <td>0</td>\n",
       "      <td>1</td>\n",
       "      <td>0</td>\n",
       "      <td>1</td>\n",
       "      <td>0</td>\n",
       "      <td>0</td>\n",
       "      <td>0</td>\n",
       "      <td>1</td>\n",
       "      <td>0</td>\n",
       "    </tr>\n",
       "  </tbody>\n",
       "</table>\n",
       "<p>5 rows × 32 columns</p>\n",
       "</div>"
      ],
      "text/plain": [
       "   customerID  gender  SeniorCitizen  Partner  Dependents  tenure  \\\n",
       "1  5575-GNVDE       1              0        0           0      34   \n",
       "2  3668-QPYBK       1              0        0           0       2   \n",
       "3  7795-CFOCW       1              0        0           0      45   \n",
       "4  9237-HQITU       0              0        0           0       2   \n",
       "5  9305-CDSKC       0              0        0           0       8   \n",
       "\n",
       "   PhoneService  PaperlessBilling  MonthlyCharges  TotalCharges  ...  \\\n",
       "1             1                 0           56.95       1889.50  ...   \n",
       "2             1                 1           53.85        108.15  ...   \n",
       "3             0                 0           42.30       1840.75  ...   \n",
       "4             1                 1           70.70        151.65  ...   \n",
       "5             1                 1           99.65        820.50  ...   \n",
       "\n",
       "   TechSupport_Yes  StreamingTV_No internet service  StreamingTV_Yes  \\\n",
       "1                0                                0                0   \n",
       "2                0                                0                0   \n",
       "3                1                                0                0   \n",
       "4                0                                0                0   \n",
       "5                0                                0                1   \n",
       "\n",
       "   StreamingMovies_No internet service  StreamingMovies_Yes  \\\n",
       "1                                    0                    0   \n",
       "2                                    0                    0   \n",
       "3                                    0                    0   \n",
       "4                                    0                    0   \n",
       "5                                    0                    1   \n",
       "\n",
       "   Contract_One year  Contract_Two year  \\\n",
       "1                  1                  0   \n",
       "2                  0                  0   \n",
       "3                  1                  0   \n",
       "4                  0                  0   \n",
       "5                  0                  0   \n",
       "\n",
       "   PaymentMethod_Credit card (automatic)  PaymentMethod_Electronic check  \\\n",
       "1                                      0                               0   \n",
       "2                                      0                               0   \n",
       "3                                      0                               0   \n",
       "4                                      0                               1   \n",
       "5                                      0                               1   \n",
       "\n",
       "   PaymentMethod_Mailed check  \n",
       "1                           1  \n",
       "2                           1  \n",
       "3                           0  \n",
       "4                           0  \n",
       "5                           0  \n",
       "\n",
       "[5 rows x 32 columns]"
      ]
     },
     "execution_count": 36,
     "metadata": {},
     "output_type": "execute_result"
    }
   ],
   "source": [
    "df = pd.get_dummies(df,columns=non_binary_cols , drop_first=True,dtype=int)\n",
    "df.head()"
   ]
  },
  {
   "cell_type": "markdown",
   "id": "a50ec502",
   "metadata": {
    "papermill": {
     "duration": 0.030642,
     "end_time": "2023-11-21T18:50:55.929401",
     "exception": false,
     "start_time": "2023-11-21T18:50:55.898759",
     "status": "completed"
    },
    "tags": []
   },
   "source": [
    "**2.4 Scaling**"
   ]
  },
  {
   "cell_type": "code",
   "execution_count": 37,
   "id": "d89a30c8",
   "metadata": {
    "execution": {
     "iopub.execute_input": "2023-11-21T18:50:55.992727Z",
     "iopub.status.busy": "2023-11-21T18:50:55.992146Z",
     "iopub.status.idle": "2023-11-21T18:50:56.023921Z",
     "shell.execute_reply": "2023-11-21T18:50:56.023047Z"
    },
    "papermill": {
     "duration": 0.065144,
     "end_time": "2023-11-21T18:50:56.026203",
     "exception": false,
     "start_time": "2023-11-21T18:50:55.961059",
     "status": "completed"
    },
    "tags": []
   },
   "outputs": [
    {
     "data": {
      "text/html": [
       "<div>\n",
       "<style scoped>\n",
       "    .dataframe tbody tr th:only-of-type {\n",
       "        vertical-align: middle;\n",
       "    }\n",
       "\n",
       "    .dataframe tbody tr th {\n",
       "        vertical-align: top;\n",
       "    }\n",
       "\n",
       "    .dataframe thead th {\n",
       "        text-align: right;\n",
       "    }\n",
       "</style>\n",
       "<table border=\"1\" class=\"dataframe\">\n",
       "  <thead>\n",
       "    <tr style=\"text-align: right;\">\n",
       "      <th></th>\n",
       "      <th>tenure</th>\n",
       "      <th>MonthlyCharges</th>\n",
       "      <th>TotalCharges</th>\n",
       "    </tr>\n",
       "  </thead>\n",
       "  <tbody>\n",
       "    <tr>\n",
       "      <th>1</th>\n",
       "      <td>0.106383</td>\n",
       "      <td>-0.248384</td>\n",
       "      <td>0.143683</td>\n",
       "    </tr>\n",
       "    <tr>\n",
       "      <th>2</th>\n",
       "      <td>-0.574468</td>\n",
       "      <td>-0.305633</td>\n",
       "      <td>-0.380428</td>\n",
       "    </tr>\n",
       "    <tr>\n",
       "      <th>3</th>\n",
       "      <td>0.340426</td>\n",
       "      <td>-0.518929</td>\n",
       "      <td>0.129340</td>\n",
       "    </tr>\n",
       "    <tr>\n",
       "      <th>4</th>\n",
       "      <td>-0.574468</td>\n",
       "      <td>0.005540</td>\n",
       "      <td>-0.367630</td>\n",
       "    </tr>\n",
       "    <tr>\n",
       "      <th>5</th>\n",
       "      <td>-0.446809</td>\n",
       "      <td>0.540166</td>\n",
       "      <td>-0.170840</td>\n",
       "    </tr>\n",
       "    <tr>\n",
       "      <th>...</th>\n",
       "      <td>...</td>\n",
       "      <td>...</td>\n",
       "      <td>...</td>\n",
       "    </tr>\n",
       "    <tr>\n",
       "      <th>7038</th>\n",
       "      <td>-0.106383</td>\n",
       "      <td>0.265928</td>\n",
       "      <td>0.173399</td>\n",
       "    </tr>\n",
       "    <tr>\n",
       "      <th>7039</th>\n",
       "      <td>0.914894</td>\n",
       "      <td>0.605725</td>\n",
       "      <td>1.754075</td>\n",
       "    </tr>\n",
       "    <tr>\n",
       "      <th>7040</th>\n",
       "      <td>-0.382979</td>\n",
       "      <td>-0.753463</td>\n",
       "      <td>-0.310315</td>\n",
       "    </tr>\n",
       "    <tr>\n",
       "      <th>7041</th>\n",
       "      <td>-0.531915</td>\n",
       "      <td>0.073869</td>\n",
       "      <td>-0.322040</td>\n",
       "    </tr>\n",
       "    <tr>\n",
       "      <th>7042</th>\n",
       "      <td>0.787234</td>\n",
       "      <td>0.650970</td>\n",
       "      <td>1.601551</td>\n",
       "    </tr>\n",
       "  </tbody>\n",
       "</table>\n",
       "<p>7017 rows × 3 columns</p>\n",
       "</div>"
      ],
      "text/plain": [
       "        tenure  MonthlyCharges  TotalCharges\n",
       "1     0.106383       -0.248384      0.143683\n",
       "2    -0.574468       -0.305633     -0.380428\n",
       "3     0.340426       -0.518929      0.129340\n",
       "4    -0.574468        0.005540     -0.367630\n",
       "5    -0.446809        0.540166     -0.170840\n",
       "...        ...             ...           ...\n",
       "7038 -0.106383        0.265928      0.173399\n",
       "7039  0.914894        0.605725      1.754075\n",
       "7040 -0.382979       -0.753463     -0.310315\n",
       "7041 -0.531915        0.073869     -0.322040\n",
       "7042  0.787234        0.650970      1.601551\n",
       "\n",
       "[7017 rows x 3 columns]"
      ]
     },
     "execution_count": 37,
     "metadata": {},
     "output_type": "execute_result"
    }
   ],
   "source": [
    "from sklearn.preprocessing import RobustScaler\n",
    "rs = RobustScaler()\n",
    "for col in num_cols:\n",
    "    df[col] = rs.fit_transform(df[[col]])\n",
    "df[num_cols]    "
   ]
  },
  {
   "cell_type": "markdown",
   "id": "7604ea2c",
   "metadata": {
    "papermill": {
     "duration": 0.030104,
     "end_time": "2023-11-21T18:50:56.087316",
     "exception": false,
     "start_time": "2023-11-21T18:50:56.057212",
     "status": "completed"
    },
    "tags": []
   },
   "source": [
    "# **3.Modeling**"
   ]
  },
  {
   "cell_type": "markdown",
   "id": "5fea3f9d",
   "metadata": {
    "papermill": {
     "duration": 0.029369,
     "end_time": "2023-11-21T18:50:56.146727",
     "exception": false,
     "start_time": "2023-11-21T18:50:56.117358",
     "status": "completed"
    },
    "tags": []
   },
   "source": [
    "**3.1 Logistic Regression**"
   ]
  },
  {
   "cell_type": "code",
   "execution_count": 38,
   "id": "629313be",
   "metadata": {
    "execution": {
     "iopub.execute_input": "2023-11-21T18:50:56.208838Z",
     "iopub.status.busy": "2023-11-21T18:50:56.208371Z",
     "iopub.status.idle": "2023-11-21T18:50:56.375562Z",
     "shell.execute_reply": "2023-11-21T18:50:56.373898Z"
    },
    "papermill": {
     "duration": 0.204306,
     "end_time": "2023-11-21T18:50:56.381079",
     "exception": false,
     "start_time": "2023-11-21T18:50:56.176773",
     "status": "completed"
    },
    "tags": []
   },
   "outputs": [
    {
     "name": "stdout",
     "output_type": "stream",
     "text": [
      "              precision    recall  f1-score   support\n",
      "\n",
      "           0       0.85      0.88      0.87      1544\n",
      "           1       0.64      0.58      0.61       562\n",
      "\n",
      "    accuracy                           0.80      2106\n",
      "   macro avg       0.74      0.73      0.74      2106\n",
      "weighted avg       0.79      0.80      0.80      2106\n",
      "\n",
      "0.8364827457452105\n"
     ]
    }
   ],
   "source": [
    "from sklearn.neighbors import KNeighborsClassifier\n",
    "from sklearn.linear_model import LogisticRegression\n",
    "from sklearn.model_selection import train_test_split,cross_validate\n",
    "from sklearn.metrics import (accuracy_score,roc_auc_score,\n",
    "                             confusion_matrix,\n",
    "                             classification_report,\n",
    "                             RocCurveDisplay)\n",
    "\n",
    "X = df.drop([\"Churn\",\"customerID\"],axis = 1)\n",
    "y = df[\"Churn\"]\n",
    "# Model Validation : HOLDOUT\n",
    "X_train , X_test , y_train , y_test = train_test_split(X,y,test_size=0.30,random_state=60)\n",
    "log_model = LogisticRegression().fit(X_train,y_train)\n",
    "y_pred = log_model.predict(X_test)\n",
    "y_prob = log_model.predict_proba(X_test)[:,1]\n",
    "\n",
    "print(classification_report(y_test,y_pred))\n",
    "print(roc_auc_score(y_test,y_prob))"
   ]
  },
  {
   "cell_type": "code",
   "execution_count": 39,
   "id": "59baefc8",
   "metadata": {
    "execution": {
     "iopub.execute_input": "2023-11-21T18:50:56.486031Z",
     "iopub.status.busy": "2023-11-21T18:50:56.485570Z",
     "iopub.status.idle": "2023-11-21T18:50:57.437132Z",
     "shell.execute_reply": "2023-11-21T18:50:57.435293Z"
    },
    "papermill": {
     "duration": 0.99134,
     "end_time": "2023-11-21T18:50:57.441694",
     "exception": false,
     "start_time": "2023-11-21T18:50:56.450354",
     "status": "completed"
    },
    "tags": []
   },
   "outputs": [
    {
     "name": "stdout",
     "output_type": "stream",
     "text": [
      "{'fit_time': 0.11619248390197753, 'score_time': 0.03453984260559082, 'test_accuracy': 0.8036186194418553, 'test_precision': 0.6541991902055075, 'test_recall': 0.5494623655913978, 'test_f1': 0.5972104001267879, 'test_roc_auc': 0.845457903535858}\n",
      "0.8036186194418553\n",
      "0.6541991902055075\n",
      "0.5494623655913978\n",
      "0.5972104001267879\n",
      "0.845457903535858\n"
     ]
    }
   ],
   "source": [
    "# Model Validation: 5-Fold Cross Validation\n",
    "\n",
    "log_model = LogisticRegression().fit(X,y)\n",
    "cv_results = cross_validate(log_model,X,y,cv=5,scoring=[\n",
    "    'accuracy','precision','recall','f1','roc_auc'])\n",
    "\n",
    "print({k:cv_results[k].mean() for k in cv_results })\n",
    "print(cv_results['test_accuracy'].mean())\n",
    "print(cv_results['test_precision'].mean())\n",
    "print(cv_results['test_recall'].mean())\n",
    "print(cv_results['test_f1'].mean())\n",
    "print(cv_results['test_roc_auc'].mean())"
   ]
  },
  {
   "cell_type": "markdown",
   "id": "7076c76f",
   "metadata": {
    "papermill": {
     "duration": 0.049679,
     "end_time": "2023-11-21T18:50:57.557804",
     "exception": false,
     "start_time": "2023-11-21T18:50:57.508125",
     "status": "completed"
    },
    "tags": []
   },
   "source": [
    "**3.2 KNN**"
   ]
  },
  {
   "cell_type": "code",
   "execution_count": 40,
   "id": "d6d43811",
   "metadata": {
    "execution": {
     "iopub.execute_input": "2023-11-21T18:50:57.620678Z",
     "iopub.status.busy": "2023-11-21T18:50:57.620239Z",
     "iopub.status.idle": "2023-11-21T18:50:58.492582Z",
     "shell.execute_reply": "2023-11-21T18:50:58.491361Z"
    },
    "papermill": {
     "duration": 0.907483,
     "end_time": "2023-11-21T18:50:58.495525",
     "exception": false,
     "start_time": "2023-11-21T18:50:57.588042",
     "status": "completed"
    },
    "tags": []
   },
   "outputs": [
    {
     "name": "stdout",
     "output_type": "stream",
     "text": [
      "              precision    recall  f1-score   support\n",
      "\n",
      "           0       0.88      0.91      0.89      5157\n",
      "           1       0.72      0.64      0.68      1860\n",
      "\n",
      "    accuracy                           0.84      7017\n",
      "   macro avg       0.80      0.78      0.79      7017\n",
      "weighted avg       0.84      0.84      0.84      7017\n",
      "\n",
      "0.8997223733895467\n"
     ]
    }
   ],
   "source": [
    "knn_model = KNeighborsClassifier().fit(X,y)\n",
    "y_pred = knn_model.predict(X)\n",
    "y_prob = knn_model.predict_proba(X)[:,1]\n",
    "print( classification_report(y,y_pred) )\n",
    "print(roc_auc_score(y,y_prob))"
   ]
  },
  {
   "cell_type": "code",
   "execution_count": 41,
   "id": "69ead9cf",
   "metadata": {
    "execution": {
     "iopub.execute_input": "2023-11-21T18:50:58.558720Z",
     "iopub.status.busy": "2023-11-21T18:50:58.557324Z",
     "iopub.status.idle": "2023-11-21T18:50:59.463305Z",
     "shell.execute_reply": "2023-11-21T18:50:59.461908Z"
    },
    "papermill": {
     "duration": 0.940841,
     "end_time": "2023-11-21T18:50:59.467160",
     "exception": false,
     "start_time": "2023-11-21T18:50:58.526319",
     "status": "completed"
    },
    "tags": []
   },
   "outputs": [
    {
     "name": "stdout",
     "output_type": "stream",
     "text": [
      "0.7716959791086662\n",
      "0.5743801004539357\n",
      "0.536021505376344\n",
      "0.554472708613498\n",
      "0.7827366966418294\n"
     ]
    }
   ],
   "source": [
    "# Model Validation : 5-Fold Cross Validation\n",
    "cv_results = cross_validate(knn_model,X,y,cv=5,scoring=[\n",
    "    'accuracy',\"precision\",\"recall\",'f1','roc_auc'])\n",
    "\n",
    "{k:cv_results[k].mean() for k in cv_results}\n",
    "print(cv_results['test_accuracy'].mean())\n",
    "print(cv_results['test_precision'].mean())\n",
    "print(cv_results['test_recall'].mean())\n",
    "print(cv_results['test_f1'].mean())\n",
    "print(cv_results['test_roc_auc'].mean())"
   ]
  },
  {
   "cell_type": "markdown",
   "id": "717ce820",
   "metadata": {
    "papermill": {
     "duration": 0.029398,
     "end_time": "2023-11-21T18:50:59.528577",
     "exception": false,
     "start_time": "2023-11-21T18:50:59.499179",
     "status": "completed"
    },
    "tags": []
   },
   "source": [
    "**3.3 Hyperparameter Optimization**"
   ]
  },
  {
   "cell_type": "code",
   "execution_count": 42,
   "id": "ede6ad9b",
   "metadata": {
    "execution": {
     "iopub.execute_input": "2023-11-21T18:50:59.592187Z",
     "iopub.status.busy": "2023-11-21T18:50:59.591720Z",
     "iopub.status.idle": "2023-11-21T18:50:59.601014Z",
     "shell.execute_reply": "2023-11-21T18:50:59.599719Z"
    },
    "papermill": {
     "duration": 0.044871,
     "end_time": "2023-11-21T18:50:59.603477",
     "exception": false,
     "start_time": "2023-11-21T18:50:59.558606",
     "status": "completed"
    },
    "tags": []
   },
   "outputs": [
    {
     "data": {
      "text/plain": [
       "{'algorithm': 'auto',\n",
       " 'leaf_size': 30,\n",
       " 'metric': 'minkowski',\n",
       " 'metric_params': None,\n",
       " 'n_jobs': None,\n",
       " 'n_neighbors': 5,\n",
       " 'p': 2,\n",
       " 'weights': 'uniform'}"
      ]
     },
     "execution_count": 42,
     "metadata": {},
     "output_type": "execute_result"
    }
   ],
   "source": [
    "knn_model.get_params()"
   ]
  },
  {
   "cell_type": "code",
   "execution_count": 43,
   "id": "7d5bed95",
   "metadata": {
    "execution": {
     "iopub.execute_input": "2023-11-21T18:50:59.665768Z",
     "iopub.status.busy": "2023-11-21T18:50:59.665333Z",
     "iopub.status.idle": "2023-11-21T19:00:34.240360Z",
     "shell.execute_reply": "2023-11-21T19:00:34.238656Z"
    },
    "papermill": {
     "duration": 574.636646,
     "end_time": "2023-11-21T19:00:34.270528",
     "exception": false,
     "start_time": "2023-11-21T18:50:59.633882",
     "status": "completed"
    },
    "tags": []
   },
   "outputs": [
    {
     "name": "stdout",
     "output_type": "stream",
     "text": [
      "Fitting 5 folds for each of 960 candidates, totalling 4800 fits\n"
     ]
    },
    {
     "data": {
      "text/plain": [
       "{'leaf_size': 1, 'n_neighbors': 42, 'p': 1, 'weights': 'uniform'}"
      ]
     },
     "execution_count": 43,
     "metadata": {},
     "output_type": "execute_result"
    }
   ],
   "source": [
    "knn_model = KNeighborsClassifier()\n",
    "knn_params = {\"n_neighbors\":range(2,50),\"weights\":[\"uniform\", \"distance\"] , 'leaf_size': (1,10,20,30,40), 'p': (1,2) }\n",
    "\n",
    "from sklearn.model_selection import GridSearchCV\n",
    "\n",
    "knn_gs_best = GridSearchCV(knn_model,knn_params,cv=5,n_jobs=-1,verbose=1).fit(X,y)\n",
    "knn_gs_best.best_params_"
   ]
  },
  {
   "cell_type": "code",
   "execution_count": 44,
   "id": "466588cf",
   "metadata": {
    "execution": {
     "iopub.execute_input": "2023-11-21T19:00:34.335222Z",
     "iopub.status.busy": "2023-11-21T19:00:34.334804Z",
     "iopub.status.idle": "2023-11-21T19:00:36.927113Z",
     "shell.execute_reply": "2023-11-21T19:00:36.926042Z"
    },
    "papermill": {
     "duration": 2.627902,
     "end_time": "2023-11-21T19:00:36.930011",
     "exception": false,
     "start_time": "2023-11-21T19:00:34.302109",
     "status": "completed"
    },
    "tags": []
   },
   "outputs": [
    {
     "name": "stdout",
     "output_type": "stream",
     "text": [
      "0.8014800397195266\n",
      "0.6417027971069142\n",
      "0.5688172043010752\n",
      "0.60302652431068\n",
      "0.8343113118240764\n"
     ]
    }
   ],
   "source": [
    "knn_final = knn_model.set_params(\n",
    "    **knn_gs_best.best_params_).fit(X,y)\n",
    "cv_results = cross_validate(knn_final,X,y,cv=5,scoring=[\n",
    "    \"accuracy\",\"precision\",\"recall\",\"f1\",\"roc_auc\"])\n",
    "\n",
    "#{k:cv_results[k].mean() for k in cv_results}\n",
    "print(cv_results['test_accuracy'].mean())\n",
    "print(cv_results['test_precision'].mean())\n",
    "print(cv_results['test_recall'].mean())\n",
    "print(cv_results['test_f1'].mean())\n",
    "print(cv_results['test_roc_auc'].mean())"
   ]
  },
  {
   "cell_type": "code",
   "execution_count": null,
   "id": "54d7bf96",
   "metadata": {
    "papermill": {
     "duration": 0.031781,
     "end_time": "2023-11-21T19:00:36.995743",
     "exception": false,
     "start_time": "2023-11-21T19:00:36.963962",
     "status": "completed"
    },
    "tags": []
   },
   "outputs": [],
   "source": []
  }
 ],
 "metadata": {
  "kaggle": {
   "accelerator": "none",
   "dataSources": [
    {
     "datasetId": 4027247,
     "sourceId": 7005187,
     "sourceType": "datasetVersion"
    }
   ],
   "dockerImageVersionId": 30587,
   "isGpuEnabled": false,
   "isInternetEnabled": true,
   "language": "python",
   "sourceType": "notebook"
  },
  "kernelspec": {
   "display_name": "Python 3",
   "language": "python",
   "name": "python3"
  },
  "language_info": {
   "codemirror_mode": {
    "name": "ipython",
    "version": 3
   },
   "file_extension": ".py",
   "mimetype": "text/x-python",
   "name": "python",
   "nbconvert_exporter": "python",
   "pygments_lexer": "ipython3",
   "version": "3.10.12"
  },
  "papermill": {
   "default_parameters": {},
   "duration": 595.48165,
   "end_time": "2023-11-21T19:00:39.652960",
   "environment_variables": {},
   "exception": null,
   "input_path": "__notebook__.ipynb",
   "output_path": "__notebook__.ipynb",
   "parameters": {},
   "start_time": "2023-11-21T18:50:44.171310",
   "version": "2.4.0"
  }
 },
 "nbformat": 4,
 "nbformat_minor": 5
}
